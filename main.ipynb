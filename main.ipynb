{
 "cells": [
  {
   "cell_type": "markdown",
   "id": "1d8a70fb-caf4-4383-aeeb-eba0d287eb41",
   "metadata": {},
   "source": [
    "## Part 1: Database and Jupyter Notebook Setup"
   ]
  },
  {
   "cell_type": "markdown",
   "id": "11b5dc38-7bf0-44b9-b94f-64d6ba0ce40e",
   "metadata": {},
   "source": [
    "```bash\n",
    "mongoimport --db uk_food --collection establishments --file Resources/establishments.json --jsonArray --drop\n",
    "```"
   ]
  },
  {
   "cell_type": "code",
   "execution_count": 1,
   "id": "002c7719-b0e8-4b16-af41-d4b84f06a32e",
   "metadata": {},
   "outputs": [],
   "source": [
    "import json\n",
    "from configparser import ConfigParser\n",
    "import pprint\n",
    "\n",
    "import pymongo\n",
    "import pandas as pd\n",
    "import pymongo\n",
    "import matplotlib.pyplot as plt\n"
   ]
  },
  {
   "cell_type": "code",
   "execution_count": 2,
   "id": "3780a427-f086-4b87-bdbd-a44f63ecaaa4",
   "metadata": {},
   "outputs": [],
   "source": [
    "def load_configuration(f='database.ini', section='mongodb'):\n",
    "    parser = ConfigParser()\n",
    "    parser.read(f)\n",
    "\n",
    "    config = { }\n",
    "\n",
    "    if parser.has_section(section):\n",
    "        params = parser.items(section)\n",
    "        for param in params:\n",
    "            config[param[0]] = param[1]\n",
    "    else:\n",
    "        raise Exception(f'section {section} not found in {filename}')\n",
    "\n",
    "    return config\n"
   ]
  },
  {
   "cell_type": "code",
   "execution_count": 3,
   "id": "38a97822-1263-49b6-8f44-e3d83b0737b3",
   "metadata": {},
   "outputs": [
    {
     "name": "stdout",
     "output_type": "stream",
     "text": [
      "admin\n",
      "\t - system.version\n",
      "config\n",
      "\t - system.sessions\n",
      "fruit_db\n",
      "\t - fruits\n",
      "local\n",
      "\t - startup_log\n",
      "met\n",
      "\t - artifacts\n",
      "myDatabase\n",
      "\t - books\n",
      "\t - students\n",
      "\t - orders\n",
      "petsitly_marketing\n",
      "\t - customer_list\n",
      "test\n",
      "\t - music\n",
      "\t - artifacts\n",
      "test_db\n",
      "\t - first_collection\n",
      "uk_food\n",
      "\t - establishments\n"
     ]
    }
   ],
   "source": [
    "client = pymongo.MongoClient('mongodb://localhost:27017/')\n",
    "\n",
    "db = client['uk_food']\n",
    "coll = db['establishments']\n",
    "\n",
    "for db_name in client.list_database_names():\n",
    "    print(db_name)\n",
    "    d = client[db_name]\n",
    "    for c in d.list_collection_names():\n",
    "        print(f'\\t - {c}')\n",
    "\n"
   ]
  },
  {
   "cell_type": "code",
   "execution_count": 4,
   "id": "18ac67c0-0d62-4a80-934b-5814cec8f71c",
   "metadata": {},
   "outputs": [],
   "source": [
    "with open('Resources/establishments.json', encoding='utf8') as f:\n",
    "    data = f.read()"
   ]
  },
  {
   "cell_type": "code",
   "execution_count": 5,
   "id": "d17eefcd-cdb7-4398-857f-7b1fe234f11d",
   "metadata": {},
   "outputs": [],
   "source": [
    "df = pd.DataFrame(json.loads(data))"
   ]
  },
  {
   "cell_type": "code",
   "execution_count": 6,
   "id": "4460e0a6-8646-4573-8e27-d4fee9e991af",
   "metadata": {},
   "outputs": [
    {
     "name": "stdout",
     "output_type": "stream",
     "text": [
      "{'AddressLine1': 'The Bay',\n",
      " 'AddressLine2': 'St Margarets Bay',\n",
      " 'AddressLine3': 'Kent',\n",
      " 'AddressLine4': '',\n",
      " 'BusinessName': 'Refreshment Kiosk',\n",
      " 'BusinessType': 'Restaurant/Cafe/Canteen',\n",
      " 'BusinessTypeID': 1,\n",
      " 'ChangesByServerID': 0,\n",
      " 'Distance': 4587.347174863443,\n",
      " 'FHRSID': 254719,\n",
      " 'LocalAuthorityBusinessID': 'PI/000069980',\n",
      " 'LocalAuthorityCode': '182',\n",
      " 'LocalAuthorityEmailAddress': 'publicprotection@dover.gov.uk',\n",
      " 'LocalAuthorityName': 'Dover',\n",
      " 'LocalAuthorityWebSite': 'http://www.dover.gov.uk/',\n",
      " 'NewRatingPending': False,\n",
      " 'Phone': '',\n",
      " 'PostCode': 'CT15 6DY',\n",
      " 'RatingDate': '2022-03-24T00:00:00',\n",
      " 'RatingKey': 'fhrs_5_en-gb',\n",
      " 'RatingValue': '5',\n",
      " 'RightToReply': '',\n",
      " 'SchemeType': 'FHRS',\n",
      " '_id': ObjectId('67e63be0194e3f972c724db0'),\n",
      " 'geocode': {'latitude': '51.152225', 'longitude': '1.387974'},\n",
      " 'links': [{'href': 'https://api.ratings.food.gov.uk/establishments/254719',\n",
      "            'rel': 'self'}],\n",
      " 'meta': {'dataSource': None,\n",
      "          'extractDate': '0001-01-01T00:00:00',\n",
      "          'itemCount': 0,\n",
      "          'pageNumber': 0,\n",
      "          'pageSize': 0,\n",
      "          'returncode': None,\n",
      "          'totalCount': 0,\n",
      "          'totalPages': 0},\n",
      " 'scores': {'ConfidenceInManagement': 5, 'Hygiene': 0, 'Structural': 5}}\n"
     ]
    }
   ],
   "source": [
    "pprint.pprint(coll.find_one({}))"
   ]
  },
  {
   "cell_type": "markdown",
   "id": "3719bcfe-2158-4f85-a679-a05877766bbd",
   "metadata": {},
   "source": [
    "## Part 2: Update the Database"
   ]
  },
  {
   "cell_type": "code",
   "execution_count": 20,
   "id": "6d3cd31a-fa55-4653-ad79-add196786d68",
   "metadata": {},
   "outputs": [
    {
     "name": "stdout",
     "output_type": "stream",
     "text": [
      "Restaurant/Cafe/Canteen 1\n",
      "Restaurant/Cafe/Canteen 1\n",
      "Restaurant/Cafe/Canteen 1\n",
      "Restaurant/Cafe/Canteen 1\n",
      "Restaurant/Cafe/Canteen 1\n",
      "Restaurant/Cafe/Canteen 1\n",
      "Restaurant/Cafe/Canteen 1\n",
      "Restaurant/Cafe/Canteen 1\n",
      "Restaurant/Cafe/Canteen 1\n",
      "Restaurant/Cafe/Canteen 1\n",
      "\n"
     ]
    },
    {
     "data": {
      "text/plain": [
       "{'BusinessName': 'Penang Flavours',\n",
       " 'BusinessType': 'Restaurant/Cafe/Canteen',\n",
       " 'BusinessTypeID': 1,\n",
       " 'AddressLine1': 'Penang Flavours',\n",
       " 'AddressLine2': '146A Plumstead Rd',\n",
       " 'AddressLine3': 'London',\n",
       " 'AddressLine4': '',\n",
       " 'PostCode': 'SE18 7DY',\n",
       " 'Phone': '',\n",
       " 'LocalAuthorityCode': '511',\n",
       " 'LocalAuthorityName': 'Greenwich',\n",
       " 'LocalAuthorityWebSite': 'http://www.royalgreenwich.gov.uk',\n",
       " 'LocalAuthorityEmailAddress': 'health@royalgreenwich.gov.uk',\n",
       " 'scores': {'Hygiene': '', 'Structural': '', 'ConfidenceInManagement': ''},\n",
       " 'SchemeType': 'FHRS',\n",
       " 'geocode': {'longitude': '0.08384000', 'latitude': '51.49014200'},\n",
       " 'RightToReply': '',\n",
       " 'Distance': 4623.972328074718,\n",
       " 'NewRatingPending': True}"
      ]
     },
     "execution_count": 20,
     "metadata": {},
     "output_type": "execute_result"
    }
   ],
   "source": [
    "greenwich = {\n",
    "    \"BusinessName\":\"Penang Flavours\",\n",
    "    \"BusinessType\":\"Restaurant/Cafe/Canteen\",\n",
    "    \"BusinessTypeID\":\"\",\n",
    "    \"AddressLine1\":\"Penang Flavours\",\n",
    "    \"AddressLine2\":\"146A Plumstead Rd\",\n",
    "    \"AddressLine3\":\"London\",\n",
    "    \"AddressLine4\":\"\",\n",
    "    \"PostCode\":\"SE18 7DY\",\n",
    "    \"Phone\":\"\",\n",
    "    \"LocalAuthorityCode\":\"511\",\n",
    "    \"LocalAuthorityName\":\"Greenwich\",\n",
    "    \"LocalAuthorityWebSite\":\"http://www.royalgreenwich.gov.uk\",\n",
    "    \"LocalAuthorityEmailAddress\":\"health@royalgreenwich.gov.uk\",\n",
    "    \"scores\":{\n",
    "        \"Hygiene\":\"\",\n",
    "        \"Structural\":\"\",\n",
    "        \"ConfidenceInManagement\":\"\"\n",
    "    },\n",
    "    \"SchemeType\":\"FHRS\",\n",
    "    \"geocode\":{\n",
    "        \"longitude\":\"0.08384000\",\n",
    "        \"latitude\":\"51.49014200\"\n",
    "    },\n",
    "    \"RightToReply\":\"\",\n",
    "    \"Distance\":4623.9723280747176,\n",
    "    \"NewRatingPending\":True\n",
    "}\n",
    "\n",
    "establishments = coll\n",
    "\n",
    "for c in establishments.find({'BusinessType': 'Restaurant/Cafe/Canteen'}).limit(10):\n",
    "    print(c['BusinessType'], c['BusinessTypeID'])\n",
    "\n",
    "\n",
    "print()\n",
    "\n",
    "greenwich['BusinessTypeID'] = establishments.find_one({'BusinessType': 'Restaurant/Cafe/Canteen'})['BusinessTypeID']\n",
    "\n",
    "greenwich"
   ]
  },
  {
   "cell_type": "code",
   "execution_count": null,
   "id": "71020624-db2e-4492-b1c4-59aa375d6a54",
   "metadata": {},
   "outputs": [],
   "source": []
  }
 ],
 "metadata": {
  "kernelspec": {
   "display_name": "Python 3 (ipykernel)",
   "language": "python",
   "name": "python3"
  },
  "language_info": {
   "codemirror_mode": {
    "name": "ipython",
    "version": 3
   },
   "file_extension": ".py",
   "mimetype": "text/x-python",
   "name": "python",
   "nbconvert_exporter": "python",
   "pygments_lexer": "ipython3",
   "version": "3.12.4"
  }
 },
 "nbformat": 4,
 "nbformat_minor": 5
}

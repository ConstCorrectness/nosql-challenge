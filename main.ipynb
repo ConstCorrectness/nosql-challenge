{
 "cells": [
  {
   "cell_type": "markdown",
   "id": "1d8a70fb-caf4-4383-aeeb-eba0d287eb41",
   "metadata": {},
   "source": [
    "## Part 1: Database and Jupyter Notebook Setup"
   ]
  },
  {
   "cell_type": "markdown",
   "id": "11b5dc38-7bf0-44b9-b94f-64d6ba0ce40e",
   "metadata": {},
   "source": [
    "```bash\n",
    "mongoimport --db uk_food --collection establishments --file Resources/establishments.json --jsonArray --drop\n",
    "```"
   ]
  },
  {
   "cell_type": "code",
   "execution_count": 1,
   "id": "002c7719-b0e8-4b16-af41-d4b84f06a32e",
   "metadata": {},
   "outputs": [],
   "source": [
    "import json\n",
    "from configparser import ConfigParser\n",
    "import pprint\n",
    "\n",
    "import pymongo\n",
    "import pandas as pd\n",
    "import pymongo\n",
    "import matplotlib.pyplot as plt\n"
   ]
  },
  {
   "cell_type": "code",
   "execution_count": 2,
   "id": "3780a427-f086-4b87-bdbd-a44f63ecaaa4",
   "metadata": {},
   "outputs": [],
   "source": [
    "def load_configuration(f='database.ini', section='mongodb'):\n",
    "    parser = ConfigParser()\n",
    "    parser.read(f)\n",
    "\n",
    "    config = { }\n",
    "\n",
    "    if parser.has_section(section):\n",
    "        params = parser.items(section)\n",
    "        for param in params:\n",
    "            config[param[0]] = param[1]\n",
    "    else:\n",
    "        raise Exception(f'section {section} not found in {filename}')\n",
    "\n",
    "    return config\n"
   ]
  },
  {
   "cell_type": "code",
   "execution_count": 3,
   "id": "38a97822-1263-49b6-8f44-e3d83b0737b3",
   "metadata": {},
   "outputs": [
    {
     "name": "stdout",
     "output_type": "stream",
     "text": [
      "admin\n",
      "\t - system.version\n",
      "config\n",
      "\t - system.sessions\n",
      "fruit_db\n",
      "\t - fruits\n",
      "local\n",
      "\t - startup_log\n",
      "met\n",
      "\t - artifacts\n",
      "myDatabase\n",
      "\t - books\n",
      "\t - students\n",
      "\t - orders\n",
      "petsitly_marketing\n",
      "\t - customer_list\n",
      "test\n",
      "\t - music\n",
      "\t - artifacts\n",
      "test_db\n",
      "\t - first_collection\n",
      "uk_food\n",
      "\t - establishments\n"
     ]
    }
   ],
   "source": [
    "client = pymongo.MongoClient('mongodb://localhost:27017/')\n",
    "\n",
    "db = client['uk_food']\n",
    "coll = db['establishments']\n",
    "\n",
    "for db_name in client.list_database_names():\n",
    "    print(db_name)\n",
    "    d = client[db_name]\n",
    "    for c in d.list_collection_names():\n",
    "        print(f'\\t - {c}')\n",
    "\n"
   ]
  },
  {
   "cell_type": "code",
   "execution_count": 4,
   "id": "18ac67c0-0d62-4a80-934b-5814cec8f71c",
   "metadata": {},
   "outputs": [],
   "source": [
    "with open('Resources/establishments.json', encoding='utf8') as f:\n",
    "    data = f.read()"
   ]
  },
  {
   "cell_type": "code",
   "execution_count": 5,
   "id": "d17eefcd-cdb7-4398-857f-7b1fe234f11d",
   "metadata": {},
   "outputs": [],
   "source": [
    "df = pd.DataFrame(json.loads(data))"
   ]
  },
  {
   "cell_type": "code",
   "execution_count": 6,
   "id": "4460e0a6-8646-4573-8e27-d4fee9e991af",
   "metadata": {},
   "outputs": [
    {
     "name": "stdout",
     "output_type": "stream",
     "text": [
      "{'AddressLine1': 'The Bay',\n",
      " 'AddressLine2': 'St Margarets Bay',\n",
      " 'AddressLine3': 'Kent',\n",
      " 'AddressLine4': '',\n",
      " 'BusinessName': 'Refreshment Kiosk',\n",
      " 'BusinessType': 'Restaurant/Cafe/Canteen',\n",
      " 'BusinessTypeID': 1,\n",
      " 'ChangesByServerID': 0,\n",
      " 'Distance': 4587.347174863443,\n",
      " 'FHRSID': 254719,\n",
      " 'LocalAuthorityBusinessID': 'PI/000069980',\n",
      " 'LocalAuthorityCode': '182',\n",
      " 'LocalAuthorityEmailAddress': 'publicprotection@dover.gov.uk',\n",
      " 'LocalAuthorityName': 'Dover',\n",
      " 'LocalAuthorityWebSite': 'http://www.dover.gov.uk/',\n",
      " 'NewRatingPending': False,\n",
      " 'Phone': '',\n",
      " 'PostCode': 'CT15 6DY',\n",
      " 'RatingDate': '2022-03-24T00:00:00',\n",
      " 'RatingKey': 'fhrs_5_en-gb',\n",
      " 'RatingValue': '5',\n",
      " 'RightToReply': '',\n",
      " 'SchemeType': 'FHRS',\n",
      " '_id': ObjectId('67e63be0194e3f972c724db0'),\n",
      " 'geocode': {'latitude': '51.152225', 'longitude': '1.387974'},\n",
      " 'links': [{'href': 'https://api.ratings.food.gov.uk/establishments/254719',\n",
      "            'rel': 'self'}],\n",
      " 'meta': {'dataSource': None,\n",
      "          'extractDate': '0001-01-01T00:00:00',\n",
      "          'itemCount': 0,\n",
      "          'pageNumber': 0,\n",
      "          'pageSize': 0,\n",
      "          'returncode': None,\n",
      "          'totalCount': 0,\n",
      "          'totalPages': 0},\n",
      " 'scores': {'ConfidenceInManagement': 5, 'Hygiene': 0, 'Structural': 5}}\n"
     ]
    }
   ],
   "source": [
    "pprint.pprint(coll.find_one({}))"
   ]
  },
  {
   "cell_type": "markdown",
   "id": "3719bcfe-2158-4f85-a679-a05877766bbd",
   "metadata": {},
   "source": [
    "## Part 2: Update the Database"
   ]
  },
  {
   "cell_type": "code",
   "execution_count": null,
   "id": "6d3cd31a-fa55-4653-ad79-add196786d68",
   "metadata": {},
   "outputs": [
    {
     "name": "stdout",
     "output_type": "stream",
     "text": [
      "Restaurant/Cafe/Canteen 1\n",
      "Restaurant/Cafe/Canteen 1\n",
      "Restaurant/Cafe/Canteen 1\n",
      "Restaurant/Cafe/Canteen 1\n",
      "Restaurant/Cafe/Canteen 1\n",
      "Restaurant/Cafe/Canteen 1\n",
      "Restaurant/Cafe/Canteen 1\n",
      "Restaurant/Cafe/Canteen 1\n",
      "Restaurant/Cafe/Canteen 1\n",
      "Restaurant/Cafe/Canteen 1\n",
      "\n"
     ]
    },
    {
     "data": {
      "text/plain": [
       "{'BusinessName': 'Penang Flavours',\n",
       " 'BusinessType': 'Restaurant/Cafe/Canteen',\n",
       " 'BusinessTypeID': 1,\n",
       " 'AddressLine1': 'Penang Flavours',\n",
       " 'AddressLine2': '146A Plumstead Rd',\n",
       " 'AddressLine3': 'London',\n",
       " 'AddressLine4': '',\n",
       " 'PostCode': 'SE18 7DY',\n",
       " 'Phone': '',\n",
       " 'LocalAuthorityCode': '511',\n",
       " 'LocalAuthorityName': 'Greenwich',\n",
       " 'LocalAuthorityWebSite': 'http://www.royalgreenwich.gov.uk',\n",
       " 'LocalAuthorityEmailAddress': 'health@royalgreenwich.gov.uk',\n",
       " 'scores': {'Hygiene': '', 'Structural': '', 'ConfidenceInManagement': ''},\n",
       " 'SchemeType': 'FHRS',\n",
       " 'geocode': {'longitude': '0.08384000', 'latitude': '51.49014200'},\n",
       " 'RightToReply': '',\n",
       " 'Distance': 4623.972328074718,\n",
       " 'NewRatingPending': True}"
      ]
     },
     "execution_count": 7,
     "metadata": {},
     "output_type": "execute_result"
    }
   ],
   "source": [
    "greenwich = {\n",
    "    \"BusinessName\":\"Penang Flavours\",\n",
    "    \"BusinessType\":\"Restaurant/Cafe/Canteen\",\n",
    "    \"BusinessTypeID\":\"\",\n",
    "    \"AddressLine1\":\"Penang Flavours\",\n",
    "    \"AddressLine2\":\"146A Plumstead Rd\",\n",
    "    \"AddressLine3\":\"London\",\n",
    "    \"AddressLine4\":\"\",\n",
    "    \"PostCode\":\"SE18 7DY\",\n",
    "    \"Phone\":\"\",\n",
    "    \"LocalAuthorityCode\":\"511\",\n",
    "    \"LocalAuthorityName\":\"Greenwich\",\n",
    "    \"LocalAuthorityWebSite\":\"http://www.royalgreenwich.gov.uk\",\n",
    "    \"LocalAuthorityEmailAddress\":\"health@royalgreenwich.gov.uk\",\n",
    "    \"scores\":{\n",
    "        \"Hygiene\":\"\",\n",
    "        \"Structural\":\"\",\n",
    "        \"ConfidenceInManagement\":\"\"\n",
    "    },\n",
    "    \"SchemeType\":\"FHRS\",\n",
    "    \"geocode\":{\n",
    "        \"longitude\":\"0.08384000\",\n",
    "        \"latitude\":\"51.49014200\"\n",
    "    },\n",
    "    \"RightToReply\":\"\",\n",
    "    \"Distance\":4623.9723280747176,\n",
    "    \"NewRatingPending\":True\n",
    "}\n",
    "\n",
    "establishments = coll\n",
    "\n",
    "for c in establishments.find({'BusinessType': 'Restaurant/Cafe/Canteen'}).limit(10):\n",
    "    print(c['BusinessType'], c['BusinessTypeID'])\n",
    "\n",
    "\n",
    "print()\n",
    "\n",
    "greenwich['BusinessTypeID'] = establishments.find_one({'BusinessType': 'Restaurant/Cafe/Canteen'})['BusinessTypeID']\n",
    "\n",
    "greenwich"
   ]
  },
  {
   "cell_type": "code",
   "execution_count": 8,
   "id": "71020624-db2e-4492-b1c4-59aa375d6a54",
   "metadata": {},
   "outputs": [
    {
     "name": "stdout",
     "output_type": "stream",
     "text": [
      "994\n",
      "0\n"
     ]
    }
   ],
   "source": [
    "# The magazine is not interested in any establishments in Dover, so check how many documents contain the Dover Local Authority. Then, remove any establishments within the Dover Local Authority from the database, and check the number of documents to ensure they were deleted.\n",
    "\n",
    "print(establishments.count_documents({'LocalAuthorityName': 'Dover'}))\n",
    "\n",
    "establishments.delete_many({'LocalAuthorityName': 'Dover'})\n",
    "\n",
    "print(establishments.count_documents({'LocalAuthorityName': 'Dover'}))\n",
    "\n"
   ]
  },
  {
   "cell_type": "code",
   "execution_count": 10,
   "id": "1b8539ed",
   "metadata": {},
   "outputs": [
    {
     "name": "stdout",
     "output_type": "stream",
     "text": [
      "{'longitude': 1.195625, 'latitude': 51.083812}\n"
     ]
    }
   ],
   "source": [
    "# Some of the number values are stored as strings, when they should be stored as numbers.\n",
    "# Use the update_many() method to convert the string values to floats. The following fields need to be converted:\n",
    "\n",
    "# - geocode.longitude\n",
    "# - geocode.latitude\n",
    "\n",
    "establishments.update_many(\n",
    "    {'geocode.longitude': {'$type': 'string'}},\n",
    "    [{'$set': {'geocode.longitude': {'$toDouble': '$geocode.longitude'}}}]\n",
    ")\n",
    "\n",
    "establishments.update_many(\n",
    "    {'geocode.latitude': {'$type': 'string'}},\n",
    "    [{'$set': {'geocode.latitude': {'$toDouble': '$geocode.latitude'}}}]\n",
    ")\n",
    "\n",
    "# Check that the values have been converted to floats by using the find_one() method on the collection. The geocode field should now contain float values.\n",
    "print(establishments.find_one({})['geocode'])\n"
   ]
  },
  {
   "cell_type": "code",
   "execution_count": null,
   "id": "b5e1db31",
   "metadata": {},
   "outputs": [
    {
     "name": "stdout",
     "output_type": "stream",
     "text": [
      "[{'_id': ObjectId('67e63be0194e3f972c725097'), 'FHRSID': 1043695, 'ChangesByServerID': 0, 'LocalAuthorityBusinessID': 'PI/000073616', 'BusinessName': 'The Pavilion', 'BusinessType': 'Restaurant/Cafe/Canteen', 'BusinessTypeID': 1, 'AddressLine1': 'East Cliff Pavilion', 'AddressLine2': 'Wear Bay Road', 'AddressLine3': 'Folkestone', 'AddressLine4': 'Kent', 'PostCode': 'CT19 6BL', 'Phone': '', 'RatingValue': 5, 'RatingKey': 'fhrs_5_en-gb', 'RatingDate': '2018-04-04T00:00:00', 'LocalAuthorityCode': '188', 'LocalAuthorityName': 'Folkestone and Hythe', 'LocalAuthorityWebSite': 'http://www.folkestone-hythe.gov.uk', 'LocalAuthorityEmailAddress': 'foodteam@folkestone-hythe.gov.uk', 'scores': {'Hygiene': 5, 'Structural': 5, 'ConfidenceInManagement': 5}, 'SchemeType': 'FHRS', 'geocode': {'longitude': 1.195625, 'latitude': 51.083812}, 'RightToReply': '', 'Distance': 4591.765489457773, 'NewRatingPending': False, 'meta': {'dataSource': None, 'extractDate': '0001-01-01T00:00:00', 'itemCount': 0, 'returncode': None, 'totalCount': 0, 'totalPages': 0, 'pageSize': 0, 'pageNumber': 0}, 'links': [{'rel': 'self', 'href': 'https://api.ratings.food.gov.uk/establishments/1043695'}]}, {'_id': ObjectId('67e63be0194e3f972c725098'), 'FHRSID': 647177, 'ChangesByServerID': 0, 'LocalAuthorityBusinessID': 'PI/000041489', 'BusinessName': 'Wear Bay Bowls Club', 'BusinessType': 'Pub/bar/nightclub', 'BusinessTypeID': 7843, 'AddressLine1': 'Wear Bay Road', 'AddressLine2': 'Folkestone', 'AddressLine3': 'Kent', 'AddressLine4': '', 'PostCode': 'CT19 6PY', 'Phone': '', 'RatingValue': 4, 'RatingKey': 'fhrs_4_en-gb', 'RatingDate': '2014-03-31T00:00:00', 'LocalAuthorityCode': '188', 'LocalAuthorityName': 'Folkestone and Hythe', 'LocalAuthorityWebSite': 'http://www.folkestone-hythe.gov.uk', 'LocalAuthorityEmailAddress': 'foodteam@folkestone-hythe.gov.uk', 'scores': {'Hygiene': 5, 'Structural': 5, 'ConfidenceInManagement': 10}, 'SchemeType': 'FHRS', 'geocode': {'longitude': 1.196408, 'latitude': 51.086058}, 'RightToReply': '', 'Distance': 4591.821311183521, 'NewRatingPending': False, 'meta': {'dataSource': None, 'extractDate': '0001-01-01T00:00:00', 'itemCount': 0, 'returncode': None, 'totalCount': 0, 'totalPages': 0, 'pageSize': 0, 'pageNumber': 0}, 'links': [{'rel': 'self', 'href': 'https://api.ratings.food.gov.uk/establishments/647177'}]}, {'_id': ObjectId('67e63be0194e3f972c725099'), 'FHRSID': 289353, 'ChangesByServerID': 0, 'LocalAuthorityBusinessID': 'PI/000002468', 'BusinessName': 'St Marys COE (aided) Primary School', 'BusinessType': 'School/college/university', 'BusinessTypeID': 7845, 'AddressLine1': 'St Marys Church Of England Primary School', 'AddressLine2': 'Warren Road', 'AddressLine3': 'Folkestone', 'AddressLine4': 'Kent', 'PostCode': 'CT19 6QH', 'Phone': '', 'RatingValue': 5, 'RatingKey': 'fhrs_5_en-gb', 'RatingDate': '2016-09-13T00:00:00', 'LocalAuthorityCode': '188', 'LocalAuthorityName': 'Folkestone and Hythe', 'LocalAuthorityWebSite': 'http://www.folkestone-hythe.gov.uk', 'LocalAuthorityEmailAddress': 'foodteam@folkestone-hythe.gov.uk', 'scores': {'Hygiene': 0, 'Structural': 0, 'ConfidenceInManagement': 0}, 'SchemeType': 'FHRS', 'geocode': {'longitude': 1.194762, 'latitude': 51.085797}, 'RightToReply': '', 'Distance': 4591.871474174837, 'NewRatingPending': False, 'meta': {'dataSource': None, 'extractDate': '0001-01-01T00:00:00', 'itemCount': 0, 'returncode': None, 'totalCount': 0, 'totalPages': 0, 'pageSize': 0, 'pageNumber': 0}, 'links': [{'rel': 'self', 'href': 'https://api.ratings.food.gov.uk/establishments/289353'}]}, {'_id': ObjectId('67e63be0194e3f972c72509c'), 'FHRSID': 289352, 'ChangesByServerID': 0, 'LocalAuthorityBusinessID': 'PI/000002460', 'BusinessName': 'The Ship', 'BusinessType': 'Pub/bar/nightclub', 'BusinessTypeID': 7843, 'AddressLine1': '23 The Stade', 'AddressLine2': 'Folkestone', 'AddressLine3': 'Kent', 'AddressLine4': '', 'PostCode': 'CT19 6AB', 'Phone': '', 'RatingValue': 5, 'RatingKey': 'fhrs_5_en-gb', 'RatingDate': '2015-08-27T00:00:00', 'LocalAuthorityCode': '188', 'LocalAuthorityName': 'Folkestone and Hythe', 'LocalAuthorityWebSite': 'http://www.folkestone-hythe.gov.uk', 'LocalAuthorityEmailAddress': 'foodteam@folkestone-hythe.gov.uk', 'scores': {'Hygiene': 5, 'Structural': 5, 'ConfidenceInManagement': 5}, 'SchemeType': 'FHRS', 'geocode': {'longitude': 1.188537, 'latitude': 51.08084}, 'RightToReply': '', 'Distance': 4591.912144538092, 'NewRatingPending': False, 'meta': {'dataSource': None, 'extractDate': '0001-01-01T00:00:00', 'itemCount': 0, 'returncode': None, 'totalCount': 0, 'totalPages': 0, 'pageSize': 0, 'pageNumber': 0}, 'links': [{'rel': 'self', 'href': 'https://api.ratings.food.gov.uk/establishments/289352'}]}, {'_id': ObjectId('67e63be0194e3f972c72509d'), 'FHRSID': 289560, 'ChangesByServerID': 0, 'LocalAuthorityBusinessID': 'PI/000039927', 'BusinessName': 'Mariner', 'BusinessType': 'Pub/bar/nightclub', 'BusinessTypeID': 7843, 'AddressLine1': '16 The Stade', 'AddressLine2': 'Folkestone', 'AddressLine3': 'Kent', 'AddressLine4': '', 'PostCode': 'CT19 6AB', 'Phone': '', 'RatingValue': 5, 'RatingKey': 'fhrs_5_en-gb', 'RatingDate': '2019-03-19T00:00:00', 'LocalAuthorityCode': '188', 'LocalAuthorityName': 'Folkestone and Hythe', 'LocalAuthorityWebSite': 'http://www.folkestone-hythe.gov.uk', 'LocalAuthorityEmailAddress': 'foodteam@folkestone-hythe.gov.uk', 'scores': {'Hygiene': 0, 'Structural': 5, 'ConfidenceInManagement': 0}, 'SchemeType': 'FHRS', 'geocode': {'longitude': 1.188537, 'latitude': 51.08084}, 'RightToReply': '', 'Distance': 4591.912144538092, 'NewRatingPending': False, 'meta': {'dataSource': None, 'extractDate': '0001-01-01T00:00:00', 'itemCount': 0, 'returncode': None, 'totalCount': 0, 'totalPages': 0, 'pageSize': 0, 'pageNumber': 0}, 'links': [{'rel': 'self', 'href': 'https://api.ratings.food.gov.uk/establishments/289560'}]}]\n"
     ]
    }
   ],
   "source": [
    "# Use update_many to convert RatingValue to integer numbers (already is....)\n",
    "\n",
    "print(list(establishments.find({}).limit(5)))\n"
   ]
  },
  {
   "cell_type": "markdown",
   "id": "b4d1344c",
   "metadata": {},
   "source": [
    "# Part 3: Exploratory Analysis"
   ]
  },
  {
   "cell_type": "code",
   "execution_count": 14,
   "id": "73c7151a",
   "metadata": {},
   "outputs": [
    {
     "name": "stdout",
     "output_type": "stream",
     "text": [
      "38785\n"
     ]
    }
   ],
   "source": [
    "# Use count_documents to display the number of documents contained in the result.\n",
    "print(establishments.count_documents({}))"
   ]
  },
  {
   "cell_type": "code",
   "execution_count": 15,
   "id": "c5e6425b",
   "metadata": {},
   "outputs": [
    {
     "name": "stdout",
     "output_type": "stream",
     "text": [
      "{'AddressLine1': 'East Cliff Pavilion',\n",
      " 'AddressLine2': 'Wear Bay Road',\n",
      " 'AddressLine3': 'Folkestone',\n",
      " 'AddressLine4': 'Kent',\n",
      " 'BusinessName': 'The Pavilion',\n",
      " 'BusinessType': 'Restaurant/Cafe/Canteen',\n",
      " 'BusinessTypeID': 1,\n",
      " 'ChangesByServerID': 0,\n",
      " 'Distance': 4591.765489457773,\n",
      " 'FHRSID': 1043695,\n",
      " 'LocalAuthorityBusinessID': 'PI/000073616',\n",
      " 'LocalAuthorityCode': '188',\n",
      " 'LocalAuthorityEmailAddress': 'foodteam@folkestone-hythe.gov.uk',\n",
      " 'LocalAuthorityName': 'Folkestone and Hythe',\n",
      " 'LocalAuthorityWebSite': 'http://www.folkestone-hythe.gov.uk',\n",
      " 'NewRatingPending': False,\n",
      " 'Phone': '',\n",
      " 'PostCode': 'CT19 6BL',\n",
      " 'RatingDate': '2018-04-04T00:00:00',\n",
      " 'RatingKey': 'fhrs_5_en-gb',\n",
      " 'RatingValue': 5,\n",
      " 'RightToReply': '',\n",
      " 'SchemeType': 'FHRS',\n",
      " '_id': ObjectId('67e63be0194e3f972c725097'),\n",
      " 'geocode': {'latitude': 51.083812, 'longitude': 1.195625},\n",
      " 'links': [{'href': 'https://api.ratings.food.gov.uk/establishments/1043695',\n",
      "            'rel': 'self'}],\n",
      " 'meta': {'dataSource': None,\n",
      "          'extractDate': '0001-01-01T00:00:00',\n",
      "          'itemCount': 0,\n",
      "          'pageNumber': 0,\n",
      "          'pageSize': 0,\n",
      "          'returncode': None,\n",
      "          'totalCount': 0,\n",
      "          'totalPages': 0},\n",
      " 'scores': {'ConfidenceInManagement': 5, 'Hygiene': 5, 'Structural': 5}}\n"
     ]
    }
   ],
   "source": [
    "# Display the first document in the results using pprint\n",
    "\n",
    "pprint.pprint(establishments.find_one({}))\n"
   ]
  },
  {
   "cell_type": "code",
   "execution_count": 17,
   "id": "0921fe19",
   "metadata": {},
   "outputs": [
    {
     "name": "stdout",
     "output_type": "stream",
     "text": [
      "Number of rows: 38785\n",
      "(38785, 28)\n",
      "                        _id   FHRSID  ChangesByServerID  \\\n",
      "0  67e63be0194e3f972c725097  1043695                  0   \n",
      "1  67e63be0194e3f972c725098   647177                  0   \n",
      "2  67e63be0194e3f972c725099   289353                  0   \n",
      "3  67e63be0194e3f972c72509c   289352                  0   \n",
      "4  67e63be0194e3f972c72509d   289560                  0   \n",
      "5  67e63be0194e3f972c72509e   987206                  0   \n",
      "6  67e63be0194e3f972c72509f   344689                  0   \n",
      "7  67e63be0194e3f972c7250a0   894592                  0   \n",
      "8  67e63be0194e3f972c7250a1  1043701                  0   \n",
      "9  67e63be0194e3f972c7250a2   805702                  0   \n",
      "\n",
      "  LocalAuthorityBusinessID                         BusinessName  \\\n",
      "0             PI/000073616                         The Pavilion   \n",
      "1             PI/000041489                  Wear Bay Bowls Club   \n",
      "2             PI/000002468  St Marys COE (aided) Primary School   \n",
      "3             PI/000002460                             The Ship   \n",
      "4             PI/000039927                              Mariner   \n",
      "5             PI/000075655                     The Ships Galley   \n",
      "6             PI/000002095             Folkestone Trawlers Shop   \n",
      "7             PI/000074396                               Docker   \n",
      "8             PI/000076360                      Pick Up Pintxos   \n",
      "9             PI/000073219             Dr Legumes - Harbour Arm   \n",
      "\n",
      "                BusinessType  BusinessTypeID  \\\n",
      "0    Restaurant/Cafe/Canteen               1   \n",
      "1          Pub/bar/nightclub            7843   \n",
      "2  School/college/university            7845   \n",
      "3          Pub/bar/nightclub            7843   \n",
      "4          Pub/bar/nightclub            7843   \n",
      "5          Pub/bar/nightclub            7843   \n",
      "6          Retailers - other            4613   \n",
      "7          Retailers - other            4613   \n",
      "8     Takeaway/sandwich shop            7844   \n",
      "9    Restaurant/Cafe/Canteen               1   \n",
      "\n",
      "                                AddressLine1           AddressLine2  \\\n",
      "0                        East Cliff Pavilion          Wear Bay Road   \n",
      "1                              Wear Bay Road             Folkestone   \n",
      "2  St Marys Church Of England Primary School            Warren Road   \n",
      "3                               23 The Stade             Folkestone   \n",
      "4                               16 The Stade             Folkestone   \n",
      "5                                   The Ship           23 The Stade   \n",
      "6                                1 The Stade             Folkestone   \n",
      "7                         Folkestone Harbour  Harbour Approach Road   \n",
      "8                         Folkestone Harbour  Harbour Approach Road   \n",
      "9                         Folkestone Harbour  Harbour Approach Road   \n",
      "\n",
      "  AddressLine3  ...               LocalAuthorityWebSite  \\\n",
      "0   Folkestone  ...  http://www.folkestone-hythe.gov.uk   \n",
      "1         Kent  ...  http://www.folkestone-hythe.gov.uk   \n",
      "2   Folkestone  ...  http://www.folkestone-hythe.gov.uk   \n",
      "3         Kent  ...  http://www.folkestone-hythe.gov.uk   \n",
      "4         Kent  ...  http://www.folkestone-hythe.gov.uk   \n",
      "5   Folkestone  ...  http://www.folkestone-hythe.gov.uk   \n",
      "6         Kent  ...  http://www.folkestone-hythe.gov.uk   \n",
      "7   Folkestone  ...  http://www.folkestone-hythe.gov.uk   \n",
      "8   Folkestone  ...  http://www.folkestone-hythe.gov.uk   \n",
      "9   Folkestone  ...  http://www.folkestone-hythe.gov.uk   \n",
      "\n",
      "         LocalAuthorityEmailAddress  \\\n",
      "0  foodteam@folkestone-hythe.gov.uk   \n",
      "1  foodteam@folkestone-hythe.gov.uk   \n",
      "2  foodteam@folkestone-hythe.gov.uk   \n",
      "3  foodteam@folkestone-hythe.gov.uk   \n",
      "4  foodteam@folkestone-hythe.gov.uk   \n",
      "5  foodteam@folkestone-hythe.gov.uk   \n",
      "6  foodteam@folkestone-hythe.gov.uk   \n",
      "7  foodteam@folkestone-hythe.gov.uk   \n",
      "8  foodteam@folkestone-hythe.gov.uk   \n",
      "9  foodteam@folkestone-hythe.gov.uk   \n",
      "\n",
      "                                              scores SchemeType  \\\n",
      "0  {'Hygiene': 5, 'Structural': 5, 'ConfidenceInM...       FHRS   \n",
      "1  {'Hygiene': 5, 'Structural': 5, 'ConfidenceInM...       FHRS   \n",
      "2  {'Hygiene': 0, 'Structural': 0, 'ConfidenceInM...       FHRS   \n",
      "3  {'Hygiene': 5, 'Structural': 5, 'ConfidenceInM...       FHRS   \n",
      "4  {'Hygiene': 0, 'Structural': 5, 'ConfidenceInM...       FHRS   \n",
      "5  {'Hygiene': 0, 'Structural': 0, 'ConfidenceInM...       FHRS   \n",
      "6  {'Hygiene': 0, 'Structural': 5, 'ConfidenceInM...       FHRS   \n",
      "7  {'Hygiene': 0, 'Structural': 0, 'ConfidenceInM...       FHRS   \n",
      "8  {'Hygiene': 5, 'Structural': 5, 'ConfidenceInM...       FHRS   \n",
      "9  {'Hygiene': 0, 'Structural': 10, 'ConfidenceIn...       FHRS   \n",
      "\n",
      "                                             geocode RightToReply  \\\n",
      "0     {'longitude': 1.195625, 'latitude': 51.083812}                \n",
      "1     {'longitude': 1.196408, 'latitude': 51.086058}                \n",
      "2     {'longitude': 1.194762, 'latitude': 51.085797}                \n",
      "3      {'longitude': 1.188537, 'latitude': 51.08084}                \n",
      "4      {'longitude': 1.188537, 'latitude': 51.08084}                \n",
      "5      {'longitude': 1.188537, 'latitude': 51.08084}                \n",
      "6      {'longitude': 1.188537, 'latitude': 51.08084}                \n",
      "7  {'longitude': 1.18590330311705, 'latitude': 51...                \n",
      "8  {'longitude': 1.18590330311705, 'latitude': 51...                \n",
      "9  {'longitude': 1.18590330311705, 'latitude': 51...                \n",
      "\n",
      "      Distance NewRatingPending  \\\n",
      "0  4591.765489            False   \n",
      "1  4591.821311            False   \n",
      "2  4591.871474            False   \n",
      "3  4591.912145            False   \n",
      "4  4591.912145            False   \n",
      "5  4591.912145            False   \n",
      "6  4591.912145            False   \n",
      "7  4591.914705            False   \n",
      "8  4591.914705            False   \n",
      "9  4591.914705            False   \n",
      "\n",
      "                                                meta  \\\n",
      "0  {'dataSource': None, 'extractDate': '0001-01-0...   \n",
      "1  {'dataSource': None, 'extractDate': '0001-01-0...   \n",
      "2  {'dataSource': None, 'extractDate': '0001-01-0...   \n",
      "3  {'dataSource': None, 'extractDate': '0001-01-0...   \n",
      "4  {'dataSource': None, 'extractDate': '0001-01-0...   \n",
      "5  {'dataSource': None, 'extractDate': '0001-01-0...   \n",
      "6  {'dataSource': None, 'extractDate': '0001-01-0...   \n",
      "7  {'dataSource': None, 'extractDate': '0001-01-0...   \n",
      "8  {'dataSource': None, 'extractDate': '0001-01-0...   \n",
      "9  {'dataSource': None, 'extractDate': '0001-01-0...   \n",
      "\n",
      "                                               links  \n",
      "0  [{'rel': 'self', 'href': 'https://api.ratings....  \n",
      "1  [{'rel': 'self', 'href': 'https://api.ratings....  \n",
      "2  [{'rel': 'self', 'href': 'https://api.ratings....  \n",
      "3  [{'rel': 'self', 'href': 'https://api.ratings....  \n",
      "4  [{'rel': 'self', 'href': 'https://api.ratings....  \n",
      "5  [{'rel': 'self', 'href': 'https://api.ratings....  \n",
      "6  [{'rel': 'self', 'href': 'https://api.ratings....  \n",
      "7  [{'rel': 'self', 'href': 'https://api.ratings....  \n",
      "8  [{'rel': 'self', 'href': 'https://api.ratings....  \n",
      "9  [{'rel': 'self', 'href': 'https://api.ratings....  \n",
      "\n",
      "[10 rows x 28 columns]\n"
     ]
    }
   ],
   "source": [
    "# Convert the result to a Pandas DataFrame.\n",
    "# Print the number of rows in the DataFrame.\n",
    "# Print the first 10 rows of the DataFrame.\n",
    "\n",
    "df = pd.DataFrame(list(establishments.find({})))\n",
    "num_rows = df.shape[0]\n",
    "print(f'Number of rows: {num_rows}')\n",
    "\n",
    "print(df.shape)\n",
    "print(df.head(10))\n"
   ]
  },
  {
   "cell_type": "code",
   "execution_count": 49,
   "id": "3fb864d6",
   "metadata": {},
   "outputs": [
    {
     "name": "stdout",
     "output_type": "stream",
     "text": [
      "[{'_id': ObjectId('67e63be1194e3f972c726bc9'), 'FHRSID': 110681, 'ChangesByServerID': 0, 'LocalAuthorityBusinessID': '4029', 'BusinessName': 'The Chase Rest Home', 'BusinessType': 'Caring Premises', 'BusinessTypeID': 5, 'AddressLine1': '5-6 Southfields Road', 'AddressLine2': 'Eastbourne', 'AddressLine3': 'East Sussex', 'AddressLine4': '', 'PostCode': 'BN21 1BU', 'Phone': '', 'RatingValue': '0', 'RatingKey': 'fhrs_0_en-gb', 'RatingDate': '2021-09-23T00:00:00', 'LocalAuthorityCode': '102', 'LocalAuthorityName': 'Eastbourne', 'LocalAuthorityWebSite': 'http://www.eastbourne.gov.uk/foodratings', 'LocalAuthorityEmailAddress': 'Customerfirst@eastbourne.gov.uk', 'scores': {'Hygiene': 20, 'Structural': 20, 'ConfidenceInManagement': 20}, 'SchemeType': 'FHRS', 'geocode': {'longitude': 0.27694, 'latitude': 50.769705}, 'RightToReply': '', 'Distance': 4613.888288172291, 'NewRatingPending': False, 'meta': {'dataSource': None, 'extractDate': '0001-01-01T00:00:00', 'itemCount': 0, 'returncode': None, 'totalCount': 0, 'totalPages': 0, 'pageSize': 0, 'pageNumber': 0}, 'links': [{'rel': 'self', 'href': 'https://api.ratings.food.gov.uk/establishments/110681'}]}, {'_id': ObjectId('67e63be1194e3f972c726f4a'), 'FHRSID': 612039, 'ChangesByServerID': 0, 'LocalAuthorityBusinessID': '1970/FOOD', 'BusinessName': 'Brenalwood', 'BusinessType': 'Caring Premises', 'BusinessTypeID': 5, 'AddressLine1': 'Hall Lane', 'AddressLine2': 'Walton-on-the-Naze', 'AddressLine3': 'Essex', 'AddressLine4': '', 'PostCode': 'CO14 8HN', 'Phone': '', 'RatingValue': '0', 'RatingKey': 'fhrs_0_en-gb', 'RatingDate': '2022-06-22T00:00:00', 'LocalAuthorityCode': '120', 'LocalAuthorityName': 'Tendring', 'LocalAuthorityWebSite': 'http://www.tendringdc.gov.uk/', 'LocalAuthorityEmailAddress': 'fhsadmin@tendringdc.gov.uk', 'scores': {'Hygiene': 20, 'Structural': 15, 'ConfidenceInManagement': 30}, 'SchemeType': 'FHRS', 'geocode': {'longitude': 1.278721, 'latitude': 51.857536}, 'RightToReply': '', 'Distance': 4617.965823673803, 'NewRatingPending': False, 'meta': {'dataSource': None, 'extractDate': '0001-01-01T00:00:00', 'itemCount': 0, 'returncode': None, 'totalCount': 0, 'totalPages': 0, 'pageSize': 0, 'pageNumber': 0}, 'links': [{'rel': 'self', 'href': 'https://api.ratings.food.gov.uk/establishments/612039'}]}, {'_id': ObjectId('67e63be1194e3f972c727254'), 'FHRSID': 730933, 'ChangesByServerID': 0, 'LocalAuthorityBusinessID': '1698/FOOD', 'BusinessName': 'Melrose Hotel', 'BusinessType': 'Hotel/bed & breakfast/guest house', 'BusinessTypeID': 7842, 'AddressLine1': '53 Marine Parade East', 'AddressLine2': 'Clacton On Sea', 'AddressLine3': 'Essex', 'AddressLine4': '', 'PostCode': 'CO15 6AD', 'Phone': '', 'RatingValue': '0', 'RatingKey': 'fhrs_0_en-gb', 'RatingDate': '2021-08-13T00:00:00', 'LocalAuthorityCode': '120', 'LocalAuthorityName': 'Tendring', 'LocalAuthorityWebSite': 'http://www.tendringdc.gov.uk/', 'LocalAuthorityEmailAddress': 'fhsadmin@tendringdc.gov.uk', 'scores': {'Hygiene': 20, 'Structural': 20, 'ConfidenceInManagement': 20}, 'SchemeType': 'FHRS', 'geocode': {'longitude': 1.15927, 'latitude': 51.789429}, 'RightToReply': '', 'Distance': 4619.6561440278165, 'NewRatingPending': False, 'meta': {'dataSource': None, 'extractDate': '0001-01-01T00:00:00', 'itemCount': 0, 'returncode': None, 'totalCount': 0, 'totalPages': 0, 'pageSize': 0, 'pageNumber': 0}, 'links': [{'rel': 'self', 'href': 'https://api.ratings.food.gov.uk/establishments/730933'}]}, {'_id': ObjectId('67e63be1194e3f972c727442'), 'FHRSID': 172735, 'ChangesByServerID': 0, 'LocalAuthorityBusinessID': 'PI/000023858', 'BusinessName': 'Seaford Pizza', 'BusinessType': 'Takeaway/sandwich shop', 'BusinessTypeID': 7844, 'AddressLine1': '4 High Street', 'AddressLine2': 'Seaford', 'AddressLine3': 'East Sussex', 'AddressLine4': '', 'PostCode': 'BN25 1PG', 'Phone': '', 'RatingValue': '1', 'RatingKey': 'fhrs_1_en-gb', 'RatingDate': '2021-12-23T00:00:00', 'LocalAuthorityCode': '105', 'LocalAuthorityName': 'Lewes', 'LocalAuthorityWebSite': 'http://www.lewes-eastbourne.gov.uk/', 'LocalAuthorityEmailAddress': 'ehealth.ldc@lewes-eastbourne.gov.uk', 'scores': {'Hygiene': 20, 'Structural': 10, 'ConfidenceInManagement': 20}, 'SchemeType': 'FHRS', 'geocode': {'longitude': 0.10202, 'latitude': 50.770885}, 'RightToReply': '', 'Distance': 4620.421724673841, 'NewRatingPending': False, 'meta': {'dataSource': None, 'extractDate': '0001-01-01T00:00:00', 'itemCount': 0, 'returncode': None, 'totalCount': 0, 'totalPages': 0, 'pageSize': 0, 'pageNumber': 0}, 'links': [{'rel': 'self', 'href': 'https://api.ratings.food.gov.uk/establishments/172735'}]}, {'_id': ObjectId('67e63be1194e3f972c727451'), 'FHRSID': 172953, 'ChangesByServerID': 0, 'LocalAuthorityBusinessID': 'PI/000024532', 'BusinessName': 'Golden Palace', 'BusinessType': 'Restaurant/Cafe/Canteen', 'BusinessTypeID': 1, 'AddressLine1': '5 South Street', 'AddressLine2': 'Seaford', 'AddressLine3': 'East Sussex', 'AddressLine4': '', 'PostCode': 'BN25 1HP', 'Phone': '', 'RatingValue': '1', 'RatingKey': 'fhrs_1_en-gb', 'RatingDate': '2021-10-07T00:00:00', 'LocalAuthorityCode': '105', 'LocalAuthorityName': 'Lewes', 'LocalAuthorityWebSite': 'http://www.lewes-eastbourne.gov.uk/', 'LocalAuthorityEmailAddress': 'ehealth.ldc@lewes-eastbourne.gov.uk', 'scores': {'Hygiene': 20, 'Structural': 10, 'ConfidenceInManagement': 20}, 'SchemeType': 'FHRS', 'geocode': {'longitude': 0.101446, 'latitude': 50.770724}, 'RightToReply': '', 'Distance': 4620.437179097401, 'NewRatingPending': False, 'meta': {'dataSource': None, 'extractDate': '0001-01-01T00:00:00', 'itemCount': 0, 'returncode': None, 'totalCount': 0, 'totalPages': 0, 'pageSize': 0, 'pageNumber': 0}, 'links': [{'rel': 'self', 'href': 'https://api.ratings.food.gov.uk/establishments/172953'}]}, {'_id': ObjectId('67e63be2194e3f972c727df0'), 'FHRSID': 512854, 'ChangesByServerID': 0, 'LocalAuthorityBusinessID': '12/00816/BUTH', 'BusinessName': \"Ashby's Butchers\", 'BusinessType': 'Retailers - other', 'BusinessTypeID': 4613, 'AddressLine1': '777 Southchurch Road', 'AddressLine2': 'Southend-On-Sea', 'AddressLine3': 'Essex', 'AddressLine4': '', 'PostCode': 'SS1 2PP', 'Phone': '', 'RatingValue': '0', 'RatingKey': 'fhrs_0_en-gb', 'RatingDate': '2022-07-21T00:00:00', 'LocalAuthorityCode': '893', 'LocalAuthorityName': 'Southend-On-Sea', 'LocalAuthorityWebSite': 'http://www.southend.gov.uk', 'LocalAuthorityEmailAddress': 'EnvironmentalHealth@southend.gov.uk', 'scores': {'Hygiene': 20, 'Structural': 20, 'ConfidenceInManagement': 20}, 'SchemeType': 'FHRS', 'geocode': {'longitude': 0.736349, 'latitude': 51.541448}, 'RightToReply': '', 'Distance': 4625.565258384611, 'NewRatingPending': False, 'meta': {'dataSource': None, 'extractDate': '0001-01-01T00:00:00', 'itemCount': 0, 'returncode': None, 'totalCount': 0, 'totalPages': 0, 'pageSize': 0, 'pageNumber': 0}, 'links': [{'rel': 'self', 'href': 'https://api.ratings.food.gov.uk/establishments/512854'}]}, {'_id': ObjectId('67e63be2194e3f972c728011'), 'FHRSID': 1537089, 'ChangesByServerID': 0, 'LocalAuthorityBusinessID': '22/00224/RESTUN', 'BusinessName': 'South Sea Express Cuisine', 'BusinessType': 'Restaurant/Cafe/Canteen', 'BusinessTypeID': 1, 'AddressLine1': '33 Alexandra Street', 'AddressLine2': 'Southend-on-sea', 'AddressLine3': 'Essex', 'AddressLine4': '', 'PostCode': 'SS1 1BW', 'Phone': '', 'RatingValue': '0', 'RatingKey': 'fhrs_0_en-gb', 'RatingDate': '2022-08-03T00:00:00', 'LocalAuthorityCode': '893', 'LocalAuthorityName': 'Southend-On-Sea', 'LocalAuthorityWebSite': 'http://www.southend.gov.uk', 'LocalAuthorityEmailAddress': 'EnvironmentalHealth@southend.gov.uk', 'scores': {'Hygiene': 20, 'Structural': 20, 'ConfidenceInManagement': 20}, 'SchemeType': 'FHRS', 'geocode': {'longitude': 0.7121671, 'latitude': 51.5350065}, 'RightToReply': '', 'Distance': 4626.200132034163, 'NewRatingPending': False, 'meta': {'dataSource': None, 'extractDate': '0001-01-01T00:00:00', 'itemCount': 0, 'returncode': None, 'totalCount': 0, 'totalPages': 0, 'pageSize': 0, 'pageNumber': 0}, 'links': [{'rel': 'self', 'href': 'https://api.ratings.food.gov.uk/establishments/1537089'}]}, {'_id': ObjectId('67e63be2194e3f972c72953c'), 'FHRSID': 155648, 'ChangesByServerID': 0, 'LocalAuthorityBusinessID': 'EH/00006058', 'BusinessName': 'Golden Palace', 'BusinessType': 'Takeaway/sandwich shop', 'BusinessTypeID': 7844, 'AddressLine1': '7 London Road', 'AddressLine2': 'Rayleigh', 'AddressLine3': 'Essex', 'AddressLine4': '', 'PostCode': 'SS6 9HN', 'Phone': '', 'RatingValue': '0', 'RatingKey': 'fhrs_0_en-gb', 'RatingDate': '2022-03-23T00:00:00', 'LocalAuthorityCode': '118', 'LocalAuthorityName': 'Rochford', 'LocalAuthorityWebSite': 'http://www.rochford.gov.uk', 'LocalAuthorityEmailAddress': 'customerservices@rochford.gov.uk', 'scores': {'Hygiene': 20, 'Structural': 15, 'ConfidenceInManagement': 30}, 'SchemeType': 'FHRS', 'geocode': {'longitude': 0.602364, 'latitude': 51.591515}, 'RightToReply': '', 'Distance': 4632.27689004769, 'NewRatingPending': False, 'meta': {'dataSource': None, 'extractDate': '0001-01-01T00:00:00', 'itemCount': 0, 'returncode': None, 'totalCount': 0, 'totalPages': 0, 'pageSize': 0, 'pageNumber': 0}, 'links': [{'rel': 'self', 'href': 'http://api.ratings.food.gov.uk/establishments/155648'}]}, {'_id': ObjectId('67e63be2194e3f972c729980'), 'FHRSID': 1012883, 'ChangesByServerID': 0, 'LocalAuthorityBusinessID': '17/00110/MIXED/S', 'BusinessName': 'The Tulip Tree', 'BusinessType': 'Restaurant/Cafe/Canteen', 'BusinessTypeID': 1, 'AddressLine1': '3 The Village', 'AddressLine2': 'Chiddingstone', 'AddressLine3': 'KENT', 'AddressLine4': '', 'PostCode': 'TN8 7AH', 'Phone': '', 'RatingValue': '1', 'RatingKey': 'fhrs_1_en-gb', 'RatingDate': '2022-03-04T00:00:00', 'LocalAuthorityCode': '187', 'LocalAuthorityName': 'Sevenoaks', 'LocalAuthorityWebSite': 'http://www.sevenoaks.gov.uk/', 'LocalAuthorityEmailAddress': 'environmental.health@sevenoaks.gov.uk', 'scores': {'Hygiene': 20, 'Structural': 5, 'ConfidenceInManagement': 20}, 'SchemeType': 'FHRS', 'geocode': {'longitude': 0.146449998021126, 'latitude': 51.1859474182129}, 'RightToReply': '', 'Distance': 4633.934040834287, 'NewRatingPending': False, 'meta': {'dataSource': None, 'extractDate': '0001-01-01T00:00:00', 'itemCount': 0, 'returncode': None, 'totalCount': 0, 'totalPages': 0, 'pageSize': 0, 'pageNumber': 0}, 'links': [{'rel': 'self', 'href': 'http://api.ratings.food.gov.uk/establishments/1012883'}]}, {'_id': ObjectId('67e63be3194e3f972c72a192'), 'FHRSID': 644109, 'ChangesByServerID': 0, 'LocalAuthorityBusinessID': '41811', 'BusinessName': 'F & S', 'BusinessType': 'Retailers - other', 'BusinessTypeID': 4613, 'AddressLine1': '', 'AddressLine2': '81 Southernhay', 'AddressLine3': 'Basildon', 'AddressLine4': 'Essex', 'PostCode': 'SS14 1EU', 'Phone': '', 'RatingValue': '0', 'RatingKey': 'fhrs_0_en-gb', 'RatingDate': '2021-07-26T00:00:00', 'LocalAuthorityCode': '109', 'LocalAuthorityName': 'Basildon', 'LocalAuthorityWebSite': 'http://www.basildon.gov.uk', 'LocalAuthorityEmailAddress': 'ehs@basildon.gov.uk', 'scores': {'Hygiene': 20, 'Structural': 20, 'ConfidenceInManagement': 20}, 'SchemeType': 'FHRS', 'geocode': {'longitude': 0.462307, 'latitude': 51.57005}, 'RightToReply': '', 'Distance': 4636.552523353182, 'NewRatingPending': False, 'meta': {'dataSource': None, 'extractDate': '0001-01-01T00:00:00', 'itemCount': 0, 'returncode': None, 'totalCount': 0, 'totalPages': 0, 'pageSize': 0, 'pageNumber': 0}, 'links': [{'rel': 'self', 'href': 'http://api.ratings.food.gov.uk/establishments/644109'}]}, {'_id': ObjectId('67e63be3194e3f972c72a202'), 'FHRSID': 267034, 'ChangesByServerID': 0, 'LocalAuthorityBusinessID': '11/00102/MIXED', 'BusinessName': 'Longhouse', 'BusinessType': 'Restaurant/Cafe/Canteen', 'BusinessTypeID': 1, 'AddressLine1': '17 London Road', 'AddressLine2': 'Riverhead', 'AddressLine3': 'KENT', 'AddressLine4': '', 'PostCode': 'TN13 2BU', 'Phone': '', 'RatingValue': '0', 'RatingKey': 'fhrs_0_en-gb', 'RatingDate': '2022-07-27T00:00:00', 'LocalAuthorityCode': '187', 'LocalAuthorityName': 'Sevenoaks', 'LocalAuthorityWebSite': 'http://www.sevenoaks.gov.uk/', 'LocalAuthorityEmailAddress': 'environmental.health@sevenoaks.gov.uk', 'scores': {'Hygiene': 20, 'Structural': 25, 'ConfidenceInManagement': 30}, 'SchemeType': 'FHRS', 'geocode': {'longitude': 0.169685, 'latitude': 51.284795}, 'RightToReply': '', 'Distance': 4636.703065274148, 'NewRatingPending': False, 'meta': {'dataSource': None, 'extractDate': '0001-01-01T00:00:00', 'itemCount': 0, 'returncode': None, 'totalCount': 0, 'totalPages': 0, 'pageSize': 0, 'pageNumber': 0}, 'links': [{'rel': 'self', 'href': 'http://api.ratings.food.gov.uk/establishments/267034'}]}, {'_id': ObjectId('67e63be3194e3f972c72a8b8'), 'FHRSID': 972876, 'ChangesByServerID': 0, 'LocalAuthorityBusinessID': '17/00059/FOOD/S', 'BusinessName': 'Westview Playgroup Based At Downsview Comm Primary', 'BusinessType': 'Other catering premises', 'BusinessTypeID': 7841, 'AddressLine1': 'Downsview Community Primary School', 'AddressLine2': 'Beech Avenue', 'AddressLine3': 'Swanley', 'AddressLine4': 'KENT', 'PostCode': 'BR8 8AU', 'Phone': '', 'RatingValue': '1', 'RatingKey': 'fhrs_1_en-gb', 'RatingDate': '2022-03-16T00:00:00', 'LocalAuthorityCode': '187', 'LocalAuthorityName': 'Sevenoaks', 'LocalAuthorityWebSite': 'http://www.sevenoaks.gov.uk/', 'LocalAuthorityEmailAddress': 'environmental.health@sevenoaks.gov.uk', 'scores': {'Hygiene': 20, 'Structural': 20, 'ConfidenceInManagement': 5}, 'SchemeType': 'FHRS', 'geocode': {'longitude': 0.1864034, 'latitude': 51.3954686}, 'RightToReply': '', 'Distance': 4640.152449114619, 'NewRatingPending': False, 'meta': {'dataSource': None, 'extractDate': '0001-01-01T00:00:00', 'itemCount': 0, 'returncode': None, 'totalCount': 0, 'totalPages': 0, 'pageSize': 0, 'pageNumber': 0}, 'links': [{'rel': 'self', 'href': 'http://api.ratings.food.gov.uk/establishments/972876'}]}, {'_id': ObjectId('67e63be3194e3f972c72b186'), 'FHRSID': 1417416, 'ChangesByServerID': 0, 'LocalAuthorityBusinessID': '21/00350/CP', 'BusinessName': 'Whatever The Weather Coffee', 'BusinessType': 'Mobile caterer', 'BusinessTypeID': 7846, 'AddressLine1': 'EMR Erith', 'AddressLine2': 'Manor Road', 'AddressLine3': 'Erith', 'AddressLine4': 'Kent', 'PostCode': 'DA8 2AD', 'Phone': '', 'RatingValue': '0', 'RatingKey': 'fhrs_0_en-gb', 'RatingDate': '2022-02-17T00:00:00', 'LocalAuthorityCode': '503', 'LocalAuthorityName': 'Bexley', 'LocalAuthorityWebSite': 'http://www.bexley.gov.uk', 'LocalAuthorityEmailAddress': 'food.safety@bexley.gov.uk', 'scores': {'Hygiene': 20, 'Structural': 15, 'ConfidenceInManagement': 20}, 'SchemeType': 'FHRS', 'geocode': {'longitude': 0.19265740017645, 'latitude': 51.4774259502039}, 'RightToReply': '', 'Distance': 4642.935252133844, 'NewRatingPending': False, 'meta': {'dataSource': None, 'extractDate': '0001-01-01T00:00:00', 'itemCount': 0, 'returncode': None, 'totalCount': 0, 'totalPages': 0, 'pageSize': 0, 'pageNumber': 0}, 'links': [{'rel': 'self', 'href': 'http://api.ratings.food.gov.uk/establishments/1417416'}]}, {'_id': ObjectId('67e63be3194e3f972c72b794'), 'FHRSID': 1384371, 'ChangesByServerID': 0, 'LocalAuthorityBusinessID': '21/00062/MIXED', 'BusinessName': 'Kings Restaurant (Oriental)', 'BusinessType': 'Takeaway/sandwich shop', 'BusinessTypeID': 7844, 'AddressLine1': '43 Kings Road', 'AddressLine2': 'Brentwood', 'AddressLine3': 'Essex', 'AddressLine4': '', 'PostCode': 'CM14 4DJ', 'Phone': '', 'RatingValue': '0', 'RatingKey': 'fhrs_0_en-gb', 'RatingDate': '2022-07-05T00:00:00', 'LocalAuthorityCode': '111', 'LocalAuthorityName': 'Brentwood', 'LocalAuthorityWebSite': 'http://www.brentwood.gov.uk/', 'LocalAuthorityEmailAddress': 'envhealth@brentwood.gov.uk', 'scores': {'Hygiene': 20, 'Structural': 25, 'ConfidenceInManagement': 20}, 'SchemeType': 'FHRS', 'geocode': {'longitude': 0.2983, 'latitude': 51.618135}, 'RightToReply': '', 'Distance': 4644.277277495872, 'NewRatingPending': False, 'meta': {'dataSource': None, 'extractDate': '0001-01-01T00:00:00', 'itemCount': 0, 'returncode': None, 'totalCount': 0, 'totalPages': 0, 'pageSize': 0, 'pageNumber': 0}, 'links': [{'rel': 'self', 'href': 'http://api.ratings.food.gov.uk/establishments/1384371'}]}, {'_id': ObjectId('67e63be3194e3f972c72baf0'), 'FHRSID': 907216, 'ChangesByServerID': 0, 'LocalAuthorityBusinessID': '132648', 'BusinessName': 'Xich Lo', 'BusinessType': 'Restaurant/Cafe/Canteen', 'BusinessTypeID': 1, 'AddressLine1': '24 Station Lane', 'AddressLine2': 'Hornchurch', 'AddressLine3': '', 'AddressLine4': '', 'PostCode': 'RM12 6NJ', 'Phone': '', 'RatingValue': '1', 'RatingKey': 'fhrs_1_en-gb', 'RatingDate': '2022-07-15T00:00:00', 'LocalAuthorityCode': '516', 'LocalAuthorityName': 'Havering', 'LocalAuthorityWebSite': 'http://www.havering.gov.uk', 'LocalAuthorityEmailAddress': 'environmental.health@havering.gov.uk', 'scores': {'Hygiene': 20, 'Structural': 5, 'ConfidenceInManagement': 10}, 'SchemeType': 'FHRS', 'geocode': {'longitude': 0.220507, 'latitude': 51.561287}, 'RightToReply': '', 'Distance': 4645.006441020867, 'NewRatingPending': False, 'meta': {'dataSource': None, 'extractDate': '0001-01-01T00:00:00', 'itemCount': 0, 'returncode': None, 'totalCount': 0, 'totalPages': 0, 'pageSize': 0, 'pageNumber': 0}, 'links': [{'rel': 'self', 'href': 'http://api.ratings.food.gov.uk/establishments/907216'}]}, {'_id': ObjectId('67e63be4194e3f972c72c061'), 'FHRSID': 710382, 'ChangesByServerID': 0, 'LocalAuthorityBusinessID': 'PI/000194267', 'BusinessName': 'Asian Supermarket Ltd: T/A Best Food Wine Ltd', 'BusinessType': 'Retailers - other', 'BusinessTypeID': 4613, 'AddressLine1': '2 - 6 Basildon Road', 'AddressLine2': '', 'AddressLine3': 'Abbey Wood', 'AddressLine4': 'Greenwich', 'PostCode': '', 'Phone': '', 'RatingValue': '0', 'RatingKey': 'fhrs_0_en-gb', 'RatingDate': '2022-04-22T00:00:00', 'LocalAuthorityCode': '511', 'LocalAuthorityName': 'Greenwich', 'LocalAuthorityWebSite': 'http://www.royalgreenwich.gov.uk', 'LocalAuthorityEmailAddress': 'health@royalgreenwich.gov.uk', 'scores': {'Hygiene': 20, 'Structural': 20, 'ConfidenceInManagement': 20}, 'SchemeType': 'FHRS', 'geocode': {'longitude': 0.1070469, 'latitude': 51.4848146}, 'RightToReply': '', 'Distance': 4646.327124710291, 'NewRatingPending': False, 'meta': {'dataSource': None, 'extractDate': '0001-01-01T00:00:00', 'itemCount': 0, 'returncode': None, 'totalCount': 0, 'totalPages': 0, 'pageSize': 0, 'pageNumber': 0}, 'links': [{'rel': 'self', 'href': 'http://api.ratings.food.gov.uk/establishments/710382'}]}, {'_id': ObjectId('67e63be4194e3f972c72c0cf'), 'FHRSID': 1411729, 'ChangesByServerID': 0, 'LocalAuthorityBusinessID': '21/00562/MIXED', 'BusinessName': 'Londis', 'BusinessType': 'Retailers - other', 'BusinessTypeID': 4613, 'AddressLine1': '5 - 7 Cranley Parade', 'AddressLine2': 'Beaconsfield Road', 'AddressLine3': 'Mottingham', 'AddressLine4': 'London', 'PostCode': 'SE9 4DZ', 'Phone': '', 'RatingValue': '0', 'RatingKey': 'fhrs_0_en-gb', 'RatingDate': '2021-11-12T00:00:00', 'LocalAuthorityCode': '505', 'LocalAuthorityName': 'Bromley', 'LocalAuthorityWebSite': 'http://www.bromley.gov.uk', 'LocalAuthorityEmailAddress': 'food@bromley.gov.uk', 'scores': {'Hygiene': 20, 'Structural': 10, 'ConfidenceInManagement': 30}, 'SchemeType': 'FHRS', 'geocode': {'longitude': 0.0460971, 'latitude': 51.4273993}, 'RightToReply': '', 'Distance': 4646.4482563738065, 'NewRatingPending': True, 'meta': {'dataSource': None, 'extractDate': '0001-01-01T00:00:00', 'itemCount': 0, 'returncode': None, 'totalCount': 0, 'totalPages': 0, 'pageSize': 0, 'pageNumber': 0}, 'links': [{'rel': 'self', 'href': 'http://api.ratings.food.gov.uk/establishments/1411729'}]}, {'_id': ObjectId('67e63be4194e3f972c72c32c'), 'FHRSID': 1060293, 'ChangesByServerID': 0, 'LocalAuthorityBusinessID': 'PI/000206588', 'BusinessName': 'Costcutter', 'BusinessType': 'Retailers - other', 'BusinessTypeID': 4613, 'AddressLine1': '2 The Slade', 'AddressLine2': '', 'AddressLine3': 'Plumstead', 'AddressLine4': 'Greenwich', 'PostCode': 'SE18 2NB', 'Phone': '', 'RatingValue': '0', 'RatingKey': 'fhrs_0_en-gb', 'RatingDate': '2022-03-14T00:00:00', 'LocalAuthorityCode': '511', 'LocalAuthorityName': 'Greenwich', 'LocalAuthorityWebSite': 'http://www.royalgreenwich.gov.uk', 'LocalAuthorityEmailAddress': 'health@royalgreenwich.gov.uk', 'scores': {'Hygiene': 20, 'Structural': 15, 'ConfidenceInManagement': 20}, 'SchemeType': 'FHRS', 'geocode': {'longitude': 0.0888789, 'latitude': 51.4800266}, 'RightToReply': '', 'Distance': 4646.814121604596, 'NewRatingPending': False, 'meta': {'dataSource': None, 'extractDate': '0001-01-01T00:00:00', 'itemCount': 0, 'returncode': None, 'totalCount': 0, 'totalPages': 0, 'pageSize': 0, 'pageNumber': 0}, 'links': [{'rel': 'self', 'href': 'http://api.ratings.food.gov.uk/establishments/1060293'}]}, {'_id': ObjectId('67e63be4194e3f972c72c90d'), 'FHRSID': 1243155, 'ChangesByServerID': 0, 'LocalAuthorityBusinessID': '75460', 'BusinessName': 'La Simon Ltd', 'BusinessType': 'Retailers - other', 'BusinessTypeID': 4613, 'AddressLine1': '', 'AddressLine2': '8 Porters Avenue', 'AddressLine3': '', 'AddressLine4': 'Dagenham', 'PostCode': 'RM8 2AQ', 'Phone': '', 'RatingValue': '1', 'RatingKey': 'fhrs_1_en-gb', 'RatingDate': '2022-03-30T00:00:00', 'LocalAuthorityCode': '501', 'LocalAuthorityName': 'Barking and Dagenham', 'LocalAuthorityWebSite': 'http://www.lbbd.gov.uk/Pages/Home.aspx', 'LocalAuthorityEmailAddress': 'foodsafety@lbbd.gov.uk', 'scores': {'Hygiene': 20, 'Structural': 15, 'ConfidenceInManagement': 5}, 'SchemeType': 'FHRS', 'geocode': {'longitude': 0.1300921, 'latitude': 51.5515791}, 'RightToReply': '', 'Distance': 4647.937954737693, 'NewRatingPending': False, 'meta': {'dataSource': None, 'extractDate': '0001-01-01T00:00:00', 'itemCount': 0, 'returncode': None, 'totalCount': 0, 'totalPages': 0, 'pageSize': 0, 'pageNumber': 0}, 'links': [{'rel': 'self', 'href': 'http://api.ratings.food.gov.uk/establishments/1243155'}]}, {'_id': ObjectId('67e63be4194e3f972c72cebc'), 'FHRSID': 1210197, 'ChangesByServerID': 0, 'LocalAuthorityBusinessID': '75196', 'BusinessName': 'Caribiscus Ltd', 'BusinessType': 'Restaurant/Cafe/Canteen', 'BusinessTypeID': 1, 'AddressLine1': '', 'AddressLine2': '87 Longbridge Road', 'AddressLine3': '', 'AddressLine4': 'Barking', 'PostCode': 'IG11 8TB', 'Phone': '', 'RatingValue': '0', 'RatingKey': 'fhrs_0_en-gb', 'RatingDate': '2022-06-20T00:00:00', 'LocalAuthorityCode': '501', 'LocalAuthorityName': 'Barking and Dagenham', 'LocalAuthorityWebSite': 'http://www.lbbd.gov.uk/Pages/Home.aspx', 'LocalAuthorityEmailAddress': 'foodsafety@lbbd.gov.uk', 'scores': {'Hygiene': 20, 'Structural': 20, 'ConfidenceInManagement': 30}, 'SchemeType': 'FHRS', 'geocode': {'longitude': 0.084452, 'latitude': 51.541715}, 'RightToReply': '', 'Distance': 4649.2374619583225, 'NewRatingPending': False, 'meta': {'dataSource': None, 'extractDate': '0001-01-01T00:00:00', 'itemCount': 0, 'returncode': None, 'totalCount': 0, 'totalPages': 0, 'pageSize': 0, 'pageNumber': 0}, 'links': [{'rel': 'self', 'href': 'http://api.ratings.food.gov.uk/establishments/1210197'}]}, {'_id': ObjectId('67e63be4194e3f972c72cedf'), 'FHRSID': 108663, 'ChangesByServerID': 0, 'LocalAuthorityBusinessID': '38915', 'BusinessName': 'Kennedy Fried Chicken', 'BusinessType': 'Takeaway/sandwich shop', 'BusinessTypeID': 7844, 'AddressLine1': '', 'AddressLine2': '66 Station Parade', 'AddressLine3': '', 'AddressLine4': 'Barking', 'PostCode': 'IG11 8EA', 'Phone': '', 'RatingValue': '0', 'RatingKey': 'fhrs_0_en-gb', 'RatingDate': '2022-06-11T00:00:00', 'LocalAuthorityCode': '501', 'LocalAuthorityName': 'Barking and Dagenham', 'LocalAuthorityWebSite': 'http://www.lbbd.gov.uk/Pages/Home.aspx', 'LocalAuthorityEmailAddress': 'foodsafety@lbbd.gov.uk', 'scores': {'Hygiene': 20, 'Structural': 20, 'ConfidenceInManagement': 30}, 'SchemeType': 'FHRS', 'geocode': {'longitude': 0.081616, 'latitude': 51.539293}, 'RightToReply': '', 'Distance': 4649.2519200445495, 'NewRatingPending': False, 'meta': {'dataSource': None, 'extractDate': '0001-01-01T00:00:00', 'itemCount': 0, 'returncode': None, 'totalCount': 0, 'totalPages': 0, 'pageSize': 0, 'pageNumber': 0}, 'links': [{'rel': 'self', 'href': 'http://api.ratings.food.gov.uk/establishments/108663'}]}, {'_id': ObjectId('67e63be4194e3f972c72d1b3'), 'FHRSID': 1107748, 'ChangesByServerID': 0, 'LocalAuthorityBusinessID': '19/00222/FOOD', 'BusinessName': 'Gah Shing', 'BusinessType': 'Takeaway/sandwich shop', 'BusinessTypeID': 7844, 'AddressLine1': '5 High Street South', 'AddressLine2': 'East Ham', 'AddressLine3': 'London', 'AddressLine4': '', 'PostCode': 'E6 6EN', 'Phone': '', 'RatingValue': '1', 'RatingKey': 'fhrs_1_en-gb', 'RatingDate': '2022-05-11T00:00:00', 'LocalAuthorityCode': '525', 'LocalAuthorityName': 'Newham', 'LocalAuthorityWebSite': 'https://www.newham.gov.uk', 'LocalAuthorityEmailAddress': 'food@newham.gov.uk', 'scores': {'Hygiene': 20, 'Structural': 15, 'ConfidenceInManagement': 10}, 'SchemeType': 'FHRS', 'geocode': {'longitude': 0.055764, 'latitude': 51.531385}, 'RightToReply': '', 'Distance': 4649.903793551815, 'NewRatingPending': False, 'meta': {'dataSource': None, 'extractDate': '0001-01-01T00:00:00', 'itemCount': 0, 'returncode': None, 'totalCount': 0, 'totalPages': 0, 'pageSize': 0, 'pageNumber': 0}, 'links': [{'rel': 'self', 'href': 'http://api.ratings.food.gov.uk/establishments/1107748'}]}, {'_id': ObjectId('67e63be4194e3f972c72d1f2'), 'FHRSID': 570096, 'ChangesByServerID': 0, 'LocalAuthorityBusinessID': '178447', 'BusinessName': 'A1 News & Wine', 'BusinessType': 'Retailers - other', 'BusinessTypeID': 4613, 'AddressLine1': '', 'AddressLine2': '221 Ilford Lane', 'AddressLine3': '', 'AddressLine4': 'Ilford', 'PostCode': 'IG1 2RZ', 'Phone': '', 'RatingValue': '1', 'RatingKey': 'fhrs_1_en-gb', 'RatingDate': '2021-06-02T00:00:00', 'LocalAuthorityCode': '526', 'LocalAuthorityName': 'Redbridge', 'LocalAuthorityWebSite': 'http://www.redbridge.gov.uk/', 'LocalAuthorityEmailAddress': 'themis.skouros@redbridge.gov.uk', 'scores': {'Hygiene': 20, 'Structural': 10, 'ConfidenceInManagement': 20}, 'SchemeType': 'FHRS', 'geocode': {'longitude': 0.074347, 'latitude': 51.551624}, 'RightToReply': '', 'Distance': 4649.968842000992, 'NewRatingPending': False, 'meta': {'dataSource': None, 'extractDate': '0001-01-01T00:00:00', 'itemCount': 0, 'returncode': None, 'totalCount': 0, 'totalPages': 0, 'pageSize': 0, 'pageNumber': 0}, 'links': [{'rel': 'self', 'href': 'http://api.ratings.food.gov.uk/establishments/570096'}]}, {'_id': ObjectId('67e63be4194e3f972c72d2fe'), 'FHRSID': 1500698, 'ChangesByServerID': 0, 'LocalAuthorityBusinessID': '201759', 'BusinessName': 'Cakes & Bakes', 'BusinessType': 'Takeaway/sandwich shop', 'BusinessTypeID': 7844, 'AddressLine1': '', 'AddressLine2': '108 Ilford Lane', 'AddressLine3': '', 'AddressLine4': 'Ilford', 'PostCode': 'IG1 2LD', 'Phone': '', 'RatingValue': '0', 'RatingKey': 'fhrs_0_en-gb', 'RatingDate': '2022-05-19T00:00:00', 'LocalAuthorityCode': '526', 'LocalAuthorityName': 'Redbridge', 'LocalAuthorityWebSite': 'http://www.redbridge.gov.uk/', 'LocalAuthorityEmailAddress': 'themis.skouros@redbridge.gov.uk', 'scores': {'Hygiene': 20, 'Structural': 15, 'ConfidenceInManagement': 20}, 'SchemeType': 'FHRS', 'geocode': {'longitude': 0.0725645, 'latitude': 51.5540755}, 'RightToReply': '', 'Distance': 4650.123644180097, 'NewRatingPending': False, 'meta': {'dataSource': None, 'extractDate': '0001-01-01T00:00:00', 'itemCount': 0, 'returncode': None, 'totalCount': 0, 'totalPages': 0, 'pageSize': 0, 'pageNumber': 0}, 'links': [{'rel': 'self', 'href': 'http://api.ratings.food.gov.uk/establishments/1500698'}]}, {'_id': ObjectId('67e63be4194e3f972c72d3bd'), 'FHRSID': 1318114, 'ChangesByServerID': 0, 'LocalAuthorityBusinessID': '200845', 'BusinessName': 'Sahajanand Catering Limited', 'BusinessType': 'Restaurant/Cafe/Canteen', 'BusinessTypeID': 1, 'AddressLine1': '', 'AddressLine2': '149 Ley Street', 'AddressLine3': '', 'AddressLine4': 'Ilford', 'PostCode': 'IG1 4BL', 'Phone': '', 'RatingValue': '1', 'RatingKey': 'fhrs_1_en-gb', 'RatingDate': '2022-07-04T00:00:00', 'LocalAuthorityCode': '526', 'LocalAuthorityName': 'Redbridge', 'LocalAuthorityWebSite': 'http://www.redbridge.gov.uk/', 'LocalAuthorityEmailAddress': 'themis.skouros@redbridge.gov.uk', 'scores': {'Hygiene': 20, 'Structural': 20, 'ConfidenceInManagement': 5}, 'SchemeType': 'FHRS', 'geocode': {'longitude': 0.077645, 'latitude': 51.562276}, 'RightToReply': '', 'Distance': 4650.2394323606195, 'NewRatingPending': False, 'meta': {'dataSource': None, 'extractDate': '0001-01-01T00:00:00', 'itemCount': 0, 'returncode': None, 'totalCount': 0, 'totalPages': 0, 'pageSize': 0, 'pageNumber': 0}, 'links': [{'rel': 'self', 'href': 'http://api.ratings.food.gov.uk/establishments/1318114'}]}, {'_id': ObjectId('67e63be4194e3f972c72d3cc'), 'FHRSID': 1498084, 'ChangesByServerID': 0, 'LocalAuthorityBusinessID': '22/00797/FOOD', 'BusinessName': 'Sisko Cafe', 'BusinessType': 'Restaurant/Cafe/Canteen', 'BusinessTypeID': 1, 'AddressLine1': '151 - 153 Barking Road', 'AddressLine2': 'East Ham', 'AddressLine3': 'London', 'AddressLine4': '', 'PostCode': 'E6 1LD', 'Phone': '', 'RatingValue': '0', 'RatingKey': 'fhrs_0_en-gb', 'RatingDate': '2022-04-22T00:00:00', 'LocalAuthorityCode': '525', 'LocalAuthorityName': 'Newham', 'LocalAuthorityWebSite': 'https://www.newham.gov.uk', 'LocalAuthorityEmailAddress': 'food@newham.gov.uk', 'scores': {'Hygiene': 20, 'Structural': 20, 'ConfidenceInManagement': 20}, 'SchemeType': 'FHRS', 'geocode': {'longitude': 0.046878, 'latitude': 51.531936}, 'RightToReply': '', 'Distance': 4650.247785381525, 'NewRatingPending': False, 'meta': {'dataSource': None, 'extractDate': '0001-01-01T00:00:00', 'itemCount': 0, 'returncode': None, 'totalCount': 0, 'totalPages': 0, 'pageSize': 0, 'pageNumber': 0}, 'links': [{'rel': 'self', 'href': 'http://api.ratings.food.gov.uk/establishments/1498084'}]}, {'_id': ObjectId('67e63be4194e3f972c72d4b9'), 'FHRSID': 1063454, 'ChangesByServerID': 0, 'LocalAuthorityBusinessID': '18/00285/FOOD', 'BusinessName': 'Magazin Romanesc Diana', 'BusinessType': 'Retailers - other', 'BusinessTypeID': 4613, 'AddressLine1': '221 High Street North', 'AddressLine2': 'East Ham', 'AddressLine3': 'London', 'AddressLine4': '', 'PostCode': 'E6 1JG', 'Phone': '', 'RatingValue': '1', 'RatingKey': 'fhrs_1_en-gb', 'RatingDate': '2022-07-25T00:00:00', 'LocalAuthorityCode': '525', 'LocalAuthorityName': 'Newham', 'LocalAuthorityWebSite': 'https://www.newham.gov.uk', 'LocalAuthorityEmailAddress': 'food@newham.gov.uk', 'scores': {'Hygiene': 20, 'Structural': 10, 'ConfidenceInManagement': 20}, 'SchemeType': 'FHRS', 'geocode': {'longitude': 0.050713, 'latitude': 51.53963}, 'RightToReply': '', 'Distance': 4650.389970646722, 'NewRatingPending': False, 'meta': {'dataSource': None, 'extractDate': '0001-01-01T00:00:00', 'itemCount': 0, 'returncode': None, 'totalCount': 0, 'totalPages': 0, 'pageSize': 0, 'pageNumber': 0}, 'links': [{'rel': 'self', 'href': 'http://api.ratings.food.gov.uk/establishments/1063454'}]}, {'_id': ObjectId('67e63be4194e3f972c72d531'), 'FHRSID': 1130121, 'ChangesByServerID': 0, 'LocalAuthorityBusinessID': '19/00249/FOOD', 'BusinessName': 'Bali Maamalas', 'BusinessType': 'Restaurant/Cafe/Canteen', 'BusinessTypeID': 1, 'AddressLine1': '241B High Street North', 'AddressLine2': 'Manor Park', 'AddressLine3': 'London', 'AddressLine4': '', 'PostCode': 'E12 6SJ', 'Phone': '', 'RatingValue': '1', 'RatingKey': 'fhrs_1_en-gb', 'RatingDate': '2022-05-11T00:00:00', 'LocalAuthorityCode': '525', 'LocalAuthorityName': 'Newham', 'LocalAuthorityWebSite': 'https://www.newham.gov.uk', 'LocalAuthorityEmailAddress': 'food@newham.gov.uk', 'scores': {'Hygiene': 20, 'Structural': 10, 'ConfidenceInManagement': 20}, 'SchemeType': 'FHRS', 'geocode': {'longitude': 0.050334, 'latitude': 51.541156}, 'RightToReply': '', 'Distance': 4650.459698178172, 'NewRatingPending': False, 'meta': {'dataSource': None, 'extractDate': '0001-01-01T00:00:00', 'itemCount': 0, 'returncode': None, 'totalCount': 0, 'totalPages': 0, 'pageSize': 0, 'pageNumber': 0}, 'links': [{'rel': 'self', 'href': 'http://api.ratings.food.gov.uk/establishments/1130121'}]}, {'_id': ObjectId('67e63be4194e3f972c72d77a'), 'FHRSID': 640363, 'ChangesByServerID': 0, 'LocalAuthorityBusinessID': '10/00269/FOOD', 'BusinessName': 'Angels Bakery', 'BusinessType': 'Other catering premises', 'BusinessTypeID': 7841, 'AddressLine1': '333 Barking Road', 'AddressLine2': 'Plaistow', 'AddressLine3': 'London', 'AddressLine4': '', 'PostCode': 'E13 8EE', 'Phone': '', 'RatingValue': '0', 'RatingKey': 'fhrs_0_en-gb', 'RatingDate': '2022-07-20T00:00:00', 'LocalAuthorityCode': '525', 'LocalAuthorityName': 'Newham', 'LocalAuthorityWebSite': 'https://www.newham.gov.uk', 'LocalAuthorityEmailAddress': 'food@newham.gov.uk', 'scores': {'Hygiene': 20, 'Structural': 20, 'ConfidenceInManagement': 20}, 'SchemeType': 'FHRS', 'geocode': {'longitude': 0.021028, 'latitude': 51.52189}, 'RightToReply': '', 'Distance': 4650.822100156243, 'NewRatingPending': False, 'meta': {'dataSource': None, 'extractDate': '0001-01-01T00:00:00', 'itemCount': 0, 'returncode': None, 'totalCount': 0, 'totalPages': 0, 'pageSize': 0, 'pageNumber': 0}, 'links': [{'rel': 'self', 'href': 'http://api.ratings.food.gov.uk/establishments/640363'}]}, {'_id': ObjectId('67e63be4194e3f972c72d7c5'), 'FHRSID': 640816, 'ChangesByServerID': 0, 'LocalAuthorityBusinessID': '61130/0282/0/000', 'BusinessName': 'Nikkis Place Restaurant', 'BusinessType': 'Restaurant/Cafe/Canteen', 'BusinessTypeID': 1, 'AddressLine1': '282 Barking Road', 'AddressLine2': 'Plaistow', 'AddressLine3': 'London', 'AddressLine4': '', 'PostCode': 'E13 8HR', 'Phone': '', 'RatingValue': '0', 'RatingKey': 'fhrs_0_en-gb', 'RatingDate': '2022-06-30T00:00:00', 'LocalAuthorityCode': '525', 'LocalAuthorityName': 'Newham', 'LocalAuthorityWebSite': 'https://www.newham.gov.uk', 'LocalAuthorityEmailAddress': 'food@newham.gov.uk', 'scores': {'Hygiene': 20, 'Structural': 20, 'ConfidenceInManagement': 20}, 'SchemeType': 'FHRS', 'geocode': {'longitude': 0.018342, 'latitude': 51.520147}, 'RightToReply': '', 'Distance': 4650.85622582084, 'NewRatingPending': False, 'meta': {'dataSource': None, 'extractDate': '0001-01-01T00:00:00', 'itemCount': 0, 'returncode': None, 'totalCount': 0, 'totalPages': 0, 'pageSize': 0, 'pageNumber': 0}, 'links': [{'rel': 'self', 'href': 'http://api.ratings.food.gov.uk/establishments/640816'}]}, {'_id': ObjectId('67e63be4194e3f972c72d835'), 'FHRSID': 1530599, 'ChangesByServerID': 0, 'LocalAuthorityBusinessID': '22/01037/FOOD', 'BusinessName': 'Chicago 30', 'BusinessType': 'Takeaway/sandwich shop', 'BusinessTypeID': 7844, 'AddressLine1': '369 Katherine Road', 'AddressLine2': 'Forest Gate', 'AddressLine3': 'London', 'AddressLine4': '', 'PostCode': 'E7 8LT', 'Phone': '', 'RatingValue': '0', 'RatingKey': 'fhrs_0_en-gb', 'RatingDate': '2022-07-05T00:00:00', 'LocalAuthorityCode': '525', 'LocalAuthorityName': 'Newham', 'LocalAuthorityWebSite': 'https://www.newham.gov.uk', 'LocalAuthorityEmailAddress': 'food@newham.gov.uk', 'scores': {'Hygiene': 20, 'Structural': 15, 'ConfidenceInManagement': 30}, 'SchemeType': 'FHRS', 'geocode': {'longitude': 0.037523, 'latitude': 51.541658}, 'RightToReply': '', 'Distance': 4650.9448351911105, 'NewRatingPending': False, 'meta': {'dataSource': None, 'extractDate': '0001-01-01T00:00:00', 'itemCount': 0, 'returncode': None, 'totalCount': 0, 'totalPages': 0, 'pageSize': 0, 'pageNumber': 0}, 'links': [{'rel': 'self', 'href': 'http://api.ratings.food.gov.uk/establishments/1530599'}]}, {'_id': ObjectId('67e63be4194e3f972c72d944'), 'FHRSID': 668674, 'ChangesByServerID': 0, 'LocalAuthorityBusinessID': '14/00082/COM', 'BusinessName': 'Samui Thai Restaurant', 'BusinessType': 'Restaurant/Cafe/Canteen', 'BusinessTypeID': 1, 'AddressLine1': 'The Kinema', 'AddressLine2': 'Chelmsford Road', 'AddressLine3': 'Dunmow', 'AddressLine4': '', 'PostCode': 'CM6 1HB', 'Phone': '', 'RatingValue': '0', 'RatingKey': 'fhrs_0_en-gb', 'RatingDate': '2022-03-24T00:00:00', 'LocalAuthorityCode': '122', 'LocalAuthorityName': 'Uttlesford', 'LocalAuthorityWebSite': 'http://www.uttlesford.gov.uk', 'LocalAuthorityEmailAddress': 'environmentalhealth@uttlesford.gov.uk', 'scores': {'Hygiene': 20, 'Structural': 20, 'ConfidenceInManagement': 30}, 'SchemeType': 'FHRS', 'geocode': {'longitude': 0.3659018, 'latitude': 51.8686712}, 'RightToReply': '', 'Distance': 4651.0999945416315, 'NewRatingPending': False, 'meta': {'dataSource': None, 'extractDate': '0001-01-01T00:00:00', 'itemCount': 0, 'returncode': None, 'totalCount': 0, 'totalPages': 0, 'pageSize': 0, 'pageNumber': 0}, 'links': [{'rel': 'self', 'href': 'http://api.ratings.food.gov.uk/establishments/668674'}]}, {'_id': ObjectId('67e63be4194e3f972c72da2f'), 'FHRSID': 1286585, 'ChangesByServerID': 0, 'LocalAuthorityBusinessID': '20/00532/FOOD', 'BusinessName': 'Pakhtoonkhwa Restaurant', 'BusinessType': 'Restaurant/Cafe/Canteen', 'BusinessTypeID': 1, 'AddressLine1': '76 Green Street', 'AddressLine2': 'Forest Gate', 'AddressLine3': 'London', 'AddressLine4': '', 'PostCode': 'E7 8JG', 'Phone': '', 'RatingValue': '0', 'RatingKey': 'fhrs_0_en-gb', 'RatingDate': '2022-06-14T00:00:00', 'LocalAuthorityCode': '525', 'LocalAuthorityName': 'Newham', 'LocalAuthorityWebSite': 'https://www.newham.gov.uk', 'LocalAuthorityEmailAddress': 'food@newham.gov.uk', 'scores': {'Hygiene': 20, 'Structural': 20, 'ConfidenceInManagement': 20}, 'SchemeType': 'FHRS', 'geocode': {'longitude': 0.031959, 'latitude': 51.543994}, 'RightToReply': '', 'Distance': 4651.2331297369665, 'NewRatingPending': False, 'meta': {'dataSource': None, 'extractDate': '0001-01-01T00:00:00', 'itemCount': 0, 'returncode': None, 'totalCount': 0, 'totalPages': 0, 'pageSize': 0, 'pageNumber': 0}, 'links': [{'rel': 'self', 'href': 'http://api.ratings.food.gov.uk/establishments/1286585'}]}, {'_id': ObjectId('67e63be4194e3f972c72dae1'), 'FHRSID': 971735, 'ChangesByServerID': 0, 'LocalAuthorityBusinessID': '17/00076/COM', 'BusinessName': 'New Happy Garden', 'BusinessType': 'Takeaway/sandwich shop', 'BusinessTypeID': 7844, 'AddressLine1': '23 Stortford Road', 'AddressLine2': 'Dunmow', 'AddressLine3': '', 'AddressLine4': '', 'PostCode': 'CM6 1DA', 'Phone': '', 'RatingValue': '0', 'RatingKey': 'fhrs_0_en-gb', 'RatingDate': '2022-03-28T00:00:00', 'LocalAuthorityCode': '122', 'LocalAuthorityName': 'Uttlesford', 'LocalAuthorityWebSite': 'http://www.uttlesford.gov.uk', 'LocalAuthorityEmailAddress': 'environmentalhealth@uttlesford.gov.uk', 'scores': {'Hygiene': 20, 'Structural': 20, 'ConfidenceInManagement': 20}, 'SchemeType': 'FHRS', 'geocode': {'longitude': 0.360846, 'latitude': 51.873055}, 'RightToReply': '', 'Distance': 4651.44448783849, 'NewRatingPending': False, 'meta': {'dataSource': None, 'extractDate': '0001-01-01T00:00:00', 'itemCount': 0, 'returncode': None, 'totalCount': 0, 'totalPages': 0, 'pageSize': 0, 'pageNumber': 0}, 'links': [{'rel': 'self', 'href': 'http://api.ratings.food.gov.uk/establishments/971735'}]}, {'_id': ObjectId('67e63be4194e3f972c72dc88'), 'FHRSID': 1055935, 'ChangesByServerID': 0, 'LocalAuthorityBusinessID': '18/00198/FOOD', 'BusinessName': 'Mummy Yum', 'BusinessType': 'Takeaway/sandwich shop', 'BusinessTypeID': 7844, 'AddressLine1': '34 West Ham Lane', 'AddressLine2': 'Stratford', 'AddressLine3': 'London', 'AddressLine4': '', 'PostCode': 'E15 4SA', 'Phone': '', 'RatingValue': '0', 'RatingKey': 'fhrs_0_en-gb', 'RatingDate': '2022-07-12T00:00:00', 'LocalAuthorityCode': '525', 'LocalAuthorityName': 'Newham', 'LocalAuthorityWebSite': 'https://www.newham.gov.uk', 'LocalAuthorityEmailAddress': 'food@newham.gov.uk', 'scores': {'Hygiene': 20, 'Structural': 20, 'ConfidenceInManagement': 20}, 'SchemeType': 'FHRS', 'geocode': {'longitude': 0.004389, 'latitude': 51.538857}, 'RightToReply': '', 'Distance': 4652.049759667773, 'NewRatingPending': False, 'meta': {'dataSource': None, 'extractDate': '0001-01-01T00:00:00', 'itemCount': 0, 'returncode': None, 'totalCount': 0, 'totalPages': 0, 'pageSize': 0, 'pageNumber': 0}, 'links': [{'rel': 'self', 'href': 'http://api.ratings.food.gov.uk/establishments/1055935'}]}, {'_id': ObjectId('67e63be4194e3f972c72de13'), 'FHRSID': 1177878, 'ChangesByServerID': 0, 'LocalAuthorityBusinessID': '347294', 'BusinessName': 'Gospodina', 'BusinessType': 'Retailers - other', 'BusinessTypeID': 4613, 'AddressLine1': '', 'AddressLine2': '345 High Road Leytonstone', 'AddressLine3': '', 'AddressLine4': 'Leytonstone', 'PostCode': 'E11 4JT', 'Phone': '', 'RatingValue': '0', 'RatingKey': 'fhrs_0_en-gb', 'RatingDate': '2022-06-27T00:00:00', 'LocalAuthorityCode': '531', 'LocalAuthorityName': 'Waltham Forest', 'LocalAuthorityWebSite': 'http://www.walthamforest.gov.uk', 'LocalAuthorityEmailAddress': 'environmentalhealth@walthamforest.gov.uk', 'scores': {'Hygiene': 20, 'Structural': 20, 'ConfidenceInManagement': 30}, 'SchemeType': 'FHRS', 'geocode': {'longitude': 0.005407, 'latitude': 51.555782}, 'RightToReply': '', 'Distance': 4652.63219028813, 'NewRatingPending': False, 'meta': {'dataSource': None, 'extractDate': '0001-01-01T00:00:00', 'itemCount': 0, 'returncode': None, 'totalCount': 0, 'totalPages': 0, 'pageSize': 0, 'pageNumber': 0}, 'links': [{'rel': 'self', 'href': 'http://api.ratings.food.gov.uk/establishments/1177878'}]}, {'_id': ObjectId('67e63be4194e3f972c72df01'), 'FHRSID': 1296829, 'ChangesByServerID': 0, 'LocalAuthorityBusinessID': '347449', 'BusinessName': \"Leo's Bar & Grill\", 'BusinessType': 'Restaurant/Cafe/Canteen', 'BusinessTypeID': 1, 'AddressLine1': '', 'AddressLine2': '32 Church Lane', 'AddressLine3': '', 'AddressLine4': 'Leytonstone', 'PostCode': 'E11 1HG', 'Phone': '', 'RatingValue': '1', 'RatingKey': 'fhrs_1_en-gb', 'RatingDate': '2022-06-15T00:00:00', 'LocalAuthorityCode': '531', 'LocalAuthorityName': 'Waltham Forest', 'LocalAuthorityWebSite': 'http://www.walthamforest.gov.uk', 'LocalAuthorityEmailAddress': 'environmentalhealth@walthamforest.gov.uk', 'scores': {'Hygiene': 20, 'Structural': 5, 'ConfidenceInManagement': 20}, 'SchemeType': 'FHRS', 'geocode': {'longitude': 0.009101, 'latitude': 51.568245}, 'RightToReply': '', 'Distance': 4652.953922367066, 'NewRatingPending': True, 'meta': {'dataSource': None, 'extractDate': '0001-01-01T00:00:00', 'itemCount': 0, 'returncode': None, 'totalCount': 0, 'totalPages': 0, 'pageSize': 0, 'pageNumber': 0}, 'links': [{'rel': 'self', 'href': 'http://api.ratings.food.gov.uk/establishments/1296829'}]}, {'_id': ObjectId('67e63be5194e3f972c72e275'), 'FHRSID': 514573, 'ChangesByServerID': 0, 'LocalAuthorityBusinessID': '44243', 'BusinessName': 'Royal Ribs', 'BusinessType': 'Takeaway/sandwich shop', 'BusinessTypeID': 7844, 'AddressLine1': '', 'AddressLine2': '14 Hatch Lane', 'AddressLine3': '', 'AddressLine4': 'Chingford', 'PostCode': 'E4 6LQ', 'Phone': '', 'RatingValue': '0', 'RatingKey': 'fhrs_0_en-gb', 'RatingDate': '2022-07-01T00:00:00', 'LocalAuthorityCode': '531', 'LocalAuthorityName': 'Waltham Forest', 'LocalAuthorityWebSite': 'http://www.walthamforest.gov.uk', 'LocalAuthorityEmailAddress': 'environmentalhealth@walthamforest.gov.uk', 'scores': {'Hygiene': 20, 'Structural': 15, 'ConfidenceInManagement': 30}, 'SchemeType': 'FHRS', 'geocode': {'longitude': 0.006248, 'latitude': 51.61912}, 'RightToReply': '', 'Distance': 4654.920995700347, 'NewRatingPending': False, 'meta': {'dataSource': None, 'extractDate': '0001-01-01T00:00:00', 'itemCount': 0, 'returncode': None, 'totalCount': 0, 'totalPages': 0, 'pageSize': 0, 'pageNumber': 0}, 'links': [{'rel': 'self', 'href': 'http://api.ratings.food.gov.uk/establishments/514573'}]}, {'_id': ObjectId('67e63be5194e3f972c72e46e'), 'FHRSID': 124507, 'ChangesByServerID': 0, 'LocalAuthorityBusinessID': '53022999151', 'BusinessName': 'Great Hallingbury Manor Hotel', 'BusinessType': 'Restaurant/Cafe/Canteen', 'BusinessTypeID': 1, 'AddressLine1': 'Great Hallingbury Manor', 'AddressLine2': 'Tilekiln Green', 'AddressLine3': 'Great Hallingbury', 'AddressLine4': 'Bishops Stortford', 'PostCode': 'CM22 7TJ', 'Phone': '', 'RatingValue': '1', 'RatingKey': 'fhrs_1_en-gb', 'RatingDate': '2021-07-28T00:00:00', 'LocalAuthorityCode': '122', 'LocalAuthorityName': 'Uttlesford', 'LocalAuthorityWebSite': 'http://www.uttlesford.gov.uk', 'LocalAuthorityEmailAddress': 'environmentalhealth@uttlesford.gov.uk', 'scores': {'Hygiene': 20, 'Structural': 10, 'ConfidenceInManagement': 20}, 'SchemeType': 'FHRS', 'geocode': {'longitude': 0.207771003246307, 'latitude': 51.8686828613281}, 'RightToReply': '', 'Distance': 4656.798774391753, 'NewRatingPending': False, 'meta': {'dataSource': None, 'extractDate': '0001-01-01T00:00:00', 'itemCount': 0, 'returncode': None, 'totalCount': 0, 'totalPages': 0, 'pageSize': 0, 'pageNumber': 0}, 'links': [{'rel': 'self', 'href': 'http://api.ratings.food.gov.uk/establishments/124507'}]}, {'_id': ObjectId('67e63be5194e3f972c72e68e'), 'FHRSID': 479001, 'ChangesByServerID': 0, 'LocalAuthorityBusinessID': '12/00162/COM', 'BusinessName': 'The Dog And Duck', 'BusinessType': 'Pub/bar/nightclub', 'BusinessTypeID': 7843, 'AddressLine1': '58 Lower Street', 'AddressLine2': 'Stansted', 'AddressLine3': 'Essex', 'AddressLine4': '', 'PostCode': 'CM24 8LR', 'Phone': '', 'RatingValue': '0', 'RatingKey': 'fhrs_0_en-gb', 'RatingDate': '2021-11-11T00:00:00', 'LocalAuthorityCode': '122', 'LocalAuthorityName': 'Uttlesford', 'LocalAuthorityWebSite': 'http://www.uttlesford.gov.uk', 'LocalAuthorityEmailAddress': 'environmentalhealth@uttlesford.gov.uk', 'scores': {'Hygiene': 20, 'Structural': 15, 'ConfidenceInManagement': 20}, 'SchemeType': 'FHRS', 'geocode': {'longitude': 0.201087, 'latitude': 51.904039}, 'RightToReply': '', 'Distance': 4658.344880326824, 'NewRatingPending': False, 'meta': {'dataSource': None, 'extractDate': '0001-01-01T00:00:00', 'itemCount': 0, 'returncode': None, 'totalCount': 0, 'totalPages': 0, 'pageSize': 0, 'pageNumber': 0}, 'links': [{'rel': 'self', 'href': 'http://api.ratings.food.gov.uk/establishments/479001'}]}, {'_id': ObjectId('67e63be5194e3f972c72e87c'), 'FHRSID': 107710, 'ChangesByServerID': 0, 'LocalAuthorityBusinessID': '38127001007', 'BusinessName': 'Oriental Cottage', 'BusinessType': 'Takeaway/sandwich shop', 'BusinessTypeID': 7844, 'AddressLine1': '1 Mercers Row', 'AddressLine2': 'Saffron Walden', 'AddressLine3': 'Essex', 'AddressLine4': '', 'PostCode': 'CB10 1HD', 'Phone': '', 'RatingValue': '0', 'RatingKey': 'fhrs_0_en-gb', 'RatingDate': '2022-03-31T00:00:00', 'LocalAuthorityCode': '122', 'LocalAuthorityName': 'Uttlesford', 'LocalAuthorityWebSite': 'http://www.uttlesford.gov.uk', 'LocalAuthorityEmailAddress': 'environmentalhealth@uttlesford.gov.uk', 'scores': {'Hygiene': 20, 'Structural': 15, 'ConfidenceInManagement': 20}, 'SchemeType': 'FHRS', 'geocode': {'longitude': 0.240491, 'latitude': 52.02328}, 'RightToReply': '', 'Distance': 4661.334349371914, 'NewRatingPending': False, 'meta': {'dataSource': None, 'extractDate': '0001-01-01T00:00:00', 'itemCount': 0, 'returncode': None, 'totalCount': 0, 'totalPages': 0, 'pageSize': 0, 'pageNumber': 0}, 'links': [{'rel': 'self', 'href': 'http://api.ratings.food.gov.uk/establishments/107710'}]}]\n",
      "                                     _id  average_rating\n",
      "0                Other catering premises        5.000000\n",
      "1                 Takeaway/sandwich shop        4.500000\n",
      "2              Distributors/Transporters             NaN\n",
      "3                Restaurant/Cafe/Canteen        4.333333\n",
      "4              School/college/university        5.000000\n",
      "5                      Pub/bar/nightclub        4.750000\n",
      "6      Hotel/bed & breakfast/guest house             NaN\n",
      "7  Retailers - supermarkets/hypermarkets             NaN\n",
      "8                      Retailers - other        5.000000\n",
      "9                        Farmers/growers             NaN\n"
     ]
    }
   ],
   "source": [
    "# Which establishments have a hygiene score equal to 20?\n",
    "\n",
    "hygiene_score_20 = establishments.find({'scores.Hygiene': 20})\n",
    "print(list(hygiene_score_20))\n",
    "\n",
    "# What is the average rating value of each establishment type?\n",
    "# Use the aggregate method to calculate the average rating value of each establishment type.\n",
    "\n",
    "pipeline = [\n",
    "    {\n",
    "        '$group': {\n",
    "            '_id': '$BusinessType',\n",
    "            'average_rating': {'$avg': '$RatingValue'}\n",
    "        }\n",
    "    }\n",
    "]\n",
    "\n",
    "results = establishments.aggregate(pipeline)\n",
    "\n",
    "# Convert the results to a Pandas DataFrame and print the first 10 rows.\n",
    "\n",
    "df = pd.DataFrame(list(results))\n",
    "\n",
    "print(df.head(10))\n",
    "\n"
   ]
  },
  {
   "cell_type": "code",
   "execution_count": 54,
   "id": "6492cd31",
   "metadata": {},
   "outputs": [
    {
     "name": "stdout",
     "output_type": "stream",
     "text": [
      "[]\n"
     ]
    }
   ],
   "source": [
    "# Which establishments in London have a rating value of 4 or higher?\n",
    "\n",
    "pipeline = [\n",
    "    {\n",
    "        '$match': {\n",
    "            'LocalAuthorityName': 'London',\n",
    "            'RatingValue': {'$gte': 4}\n",
    "        }\n",
    "    },\n",
    "    {\n",
    "        '$group': {\n",
    "            '_id': '$BusinessType',\n",
    "            'average_rating': {'$avg': '$RatingValue'}\n",
    "        }\n",
    "    }\n",
    "]\n",
    "\n",
    "results = establishments.aggregate(pipeline)\n",
    "\n",
    "print(list(results))"
   ]
  },
  {
   "cell_type": "code",
   "execution_count": null,
   "id": "eae24bb5",
   "metadata": {},
   "outputs": [],
   "source": []
  }
 ],
 "metadata": {
  "kernelspec": {
   "display_name": "Python 3",
   "language": "python",
   "name": "python3"
  },
  "language_info": {
   "codemirror_mode": {
    "name": "ipython",
    "version": 3
   },
   "file_extension": ".py",
   "mimetype": "text/x-python",
   "name": "python",
   "nbconvert_exporter": "python",
   "pygments_lexer": "ipython3",
   "version": "3.12.4"
  }
 },
 "nbformat": 4,
 "nbformat_minor": 5
}
